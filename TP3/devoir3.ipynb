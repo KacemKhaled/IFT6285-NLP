{
 "cells": [
  {
   "cell_type": "code",
   "execution_count": 329,
   "metadata": {},
   "outputs": [
    {
     "name": "stdout",
     "output_type": "stream",
     "text": [
      "Requirement already satisfied: editdistance in c:\\users\\mouna\\anaconda3\\lib\\site-packages (0.5.3)\n"
     ]
    }
   ],
   "source": [
    "!pip install editdistance"
   ]
  },
  {
   "cell_type": "code",
   "execution_count": 330,
   "metadata": {},
   "outputs": [
    {
     "name": "stdout",
     "output_type": "stream",
     "text": [
      "Requirement already satisfied: soundex in c:\\users\\mouna\\anaconda3\\lib\\site-packages (1.1.3)\n",
      "Requirement already satisfied: silpa-common>=0.3 in c:\\users\\mouna\\anaconda3\\lib\\site-packages (from soundex) (0.3)\n"
     ]
    }
   ],
   "source": [
    "!pip install soundex"
   ]
  },
  {
   "cell_type": "code",
   "execution_count": 331,
   "metadata": {},
   "outputs": [
    {
     "name": "stdout",
     "output_type": "stream",
     "text": [
      "Requirement already satisfied: textdistance in c:\\users\\mouna\\anaconda3\\lib\\site-packages (4.2.1)\n"
     ]
    }
   ],
   "source": [
    "!pip install textdistance"
   ]
  },
  {
   "cell_type": "code",
   "execution_count": 351,
   "metadata": {},
   "outputs": [],
   "source": [
    "import jaro\n",
    "import heapq as hq\n",
    "import editdistance\n",
    "import nltk\n",
    "import soundex\n",
    "import textdistance\n",
    "from soundex import Soundex\n",
    "import pandas as pd"
   ]
  },
  {
   "cell_type": "code",
   "execution_count": 27,
   "metadata": {},
   "outputs": [],
   "source": [
    "lexique = 'voc-1bwc.txt'\n",
    "wrong_words = 'test-mouna.txt'"
   ]
  },
  {
   "cell_type": "markdown",
   "metadata": {},
   "source": [
    "## Question 1 : Correction"
   ]
  },
  {
   "cell_type": "code",
   "execution_count": 99,
   "metadata": {},
   "outputs": [],
   "source": [
    "def read_vocab(file_name):\n",
    "    #lexique de mots parmi lesquels rechercher la correction (m^eme format que voc-1bwc.txt ).\n",
    "    #read vocaab \n",
    "    \n",
    "    with open(file_name ,'r',encoding=\"utf8\") as f:\n",
    "        lines = f.readlines()\n",
    "        vocab = []\n",
    "        for line in lines:       \n",
    "            vocab.append(line.rstrip('\\n').lstrip().split(' ')[1] )\n",
    "\n",
    "    f.close()\n",
    "    return vocab\n",
    "        "
   ]
  },
  {
   "cell_type": "code",
   "execution_count": null,
   "outputs": [],
   "source": [
    "def get_frequency_table(file_name):\n",
    "\n",
    "    frequency_table = {}\n",
    "    # create a dict from lexique\n",
    "    with open(file_name ,'r',encoding=\"utf8\") as f:\n",
    "        lines = f.readlines()\n",
    "\n",
    "        for line in lines:\n",
    "            s = line.rstrip('\\n').lstrip()\n",
    "            frequency = int(s.split(' ')[0])\n",
    "            word = s.split(' ')[1]\n",
    "            frequency_table[word] = frequency\n",
    "    f.close()\n",
    "\n",
    "    data_items = frequency_table.items()\n",
    "    data_list = list(data_items)\n",
    "    df = pd.DataFrame(data_list, columns=['word', 'frequency'])\n",
    "    df_sorted = df.sort_values(['frequency'], ascending=False)\n",
    "\n",
    "    return frequency_table, df_sorted\n"
   ],
   "metadata": {
    "collapsed": false,
    "pycharm": {
     "name": "#%%\n"
    }
   }
  },
  {
   "cell_type": "code",
   "execution_count": 163,
   "metadata": {},
   "outputs": [],
   "source": [
    "def find_best_candidates(vocab, scores, nb_of_candidates, largest): ### todo bug :  repetition todo fix \n",
    "    \n",
    "    if largest:\n",
    "     # Find three biggest scores (sorted) --> three best possible corrections\n",
    "        best_scores = hq.nlargest(nb_of_candidates, scores)\n",
    "    else:\n",
    "        best_scores = hq.nsmallest(nb_of_candidates, scores)\n",
    "            \n",
    "    #find indices of highest scores\n",
    "    indices_best_candidate = [i for i, x in enumerate(scores) if x == best_scores[0]] \n",
    "    indices_second_candidate = [i for i, x in enumerate(scores) if x == best_scores[1]] \n",
    "    indices_third_candidate = [i for i, x in enumerate(scores) if x == best_scores[2]] \n",
    "            \n",
    "    #find the words coresponding to the scores\n",
    "    corrections = [ vocab[i] for i in indices_best_candidate ] + [vocab[i] for i in  indices_second_candidate ] + [ vocab[i] for i in indices_third_candidate ]\n",
    "    \n",
    "    return corrections"
   ]
  },
  {
   "cell_type": "code",
   "execution_count": 332,
   "metadata": {},
   "outputs": [],
   "source": [
    "def affichage(wrong_word, corrections):\n",
    "    if len(corrections) == 0 : \n",
    "        result =  wrong_word + '\\t' + wrong_word\n",
    "    else:\n",
    "        result =  wrong_word + '\\t' + '\\t'.join(corrections)\n",
    "    print(result)"
   ]
  },
  {
   "cell_type": "code",
   "execution_count": null,
   "outputs": [],
   "source": [
    "def classifier(file_name, wrong_word, corrections , n=5 , ordre= 'distance' ):\n",
    "    # classer ces corrections soit directement \u0012a l'aide de la ou des distances, soit \u0012a l'aide du mod\u0012ele unigramme que constitue le lexique pass\u0013e en\n",
    "    # argument au programme, soit avec les deux. Votre but est d'\u0013etudier l'impact des distances utilis\u0013ees pour calculer les voisins et de d\u0013ecider\n",
    "    # d'une meilleure approche au probl\u0012eme de correction. Votre meilleure approche peut combiner plusieurs distances.\n",
    "\n",
    "    final_corrections = []\n",
    "\n",
    "    if ordre == 'distance':\n",
    "        final_corrections = corrections[:n]\n",
    "\n",
    "    elif ordre == 'unigram':\n",
    "        frequency_table , df = get_frequency_table(file_name)\n",
    "\n",
    "        corrections_frequency = [frequency_table[c] for c in corrections]\n",
    "        corrections_frequency, corrections =  zip(*sorted(zip(corrections_frequency, corrections),reverse=True))\n",
    "        final_corrections = list(corrections)[:n]\n",
    "\n",
    "    # elif ordre == 'combination': # todo kacem\n",
    "      #   final_corrections =\n",
    "\n",
    "    affichage(wrong_word, final_corrections)\n",
    "\n",
    "    return final_corrections\n",
    "\n",
    "\n"
   ],
   "metadata": {
    "collapsed": false,
    "pycharm": {
     "name": "#%%\n"
    }
   }
  },
  {
   "cell_type": "code",
   "execution_count": 380,
   "metadata": {},
   "outputs": [],
   "source": [
    "def corrige(wrong_words, lexique, jaro_winkler = True, Levenshtein = True,  Jaccard = True, Cosine = True, Hamming = True, LCSS = True, Damerau_levenshtein = True, soundex = True, needleman_wunsch=True):\n",
    "\n",
    "    vocab = read_vocab(lexique)\n",
    "    instance = Soundex()\n",
    "\n",
    "    # lit une liste de mots a corriger, un par ligne\n",
    "\n",
    "    with open(wrong_words, 'r',encoding=\"utf8\") as f:\n",
    "        for line in f:\n",
    "\n",
    "            wrong_word = line.rstrip()\n",
    "            print('********************************* ' + wrong_word)\n",
    "\n",
    "            ###################### DISTANCE 1 : jaro_winkler distance\n",
    "            if jaro_winkler :\n",
    "\n",
    "                # calculate jaro_winkler distance for all the vocabulary\n",
    "                jaro_winkler_scores = [ jaro.jaro_winkler_metric(v, wrong_word)  for v in vocab ]\n",
    "                #get the best candidates\n",
    "                jaro_winkler_corrections = find_best_candidates(vocab, jaro_winkler_scores, 3, True)\n",
    "\n",
    "                #affichage\n",
    "                print('Corrections using jaro_winkler distance :')\n",
    "                jaro_winkler_corrections = classifier(lexique, wrong_word, jaro_winkler_corrections , ordre= 'unigram' ) # distance , ou unigram ou combination\n",
    "\n",
    "                #affichage(wrong_word, jaro_winkler_corrections)\n",
    "\n",
    "\n",
    "            ###################### DISTANCE 2 : Levenshtein distance\n",
    "            if Levenshtein:\n",
    "\n",
    "                edit_distance_scores = [ editdistance.eval(v, wrong_word)  for v in vocab ]\n",
    "                edit_distance_corrections = find_best_candidates(vocab, edit_distance_scores, 3, False )\n",
    "\n",
    "                print('Corrections using edit_distance :')\n",
    "                edit_distance_corrections = classifier(lexique, wrong_word, edit_distance_corrections , ordre= 'unigram' )\n",
    "                # affichage(wrong_word, edit_distance_corrections)\n",
    "\n",
    "\n",
    "            ###################### DISTANCE 3 :  Jaccard Distance\n",
    "            if Jaccard:\n",
    "                jaccard_distance_scores = [ nltk.jaccard_distance(set(v), set(wrong_word)) for v in vocab ]\n",
    "                jaccard_distance_corrections = find_best_candidates(vocab, jaccard_distance_scores, 3, False )\n",
    "\n",
    "                print('Corrections using jaccard distance :')\n",
    "                jaccard_distance_corrections = classifier(lexique, wrong_word, jaccard_distance_corrections , ordre= 'distance' )\n",
    "                #affichage(wrong_word, jaccard_distance_corrections)\n",
    "\n",
    "\n",
    "            ###################### DISTANCE 4 :  Cosine Distance\n",
    "            if Cosine:\n",
    "                cosine_distance_scores = [ textdistance.cosine.distance(v, wrong_word) for v in vocab ]\n",
    "                cosine_distance_corrections = find_best_candidates(vocab, cosine_distance_scores, 3, False )\n",
    "\n",
    "                print('Corrections using cosine_distance :')\n",
    "                cosine_distance_corrections = classifier(lexique, wrong_word, cosine_distance_corrections , ordre= 'unigram' )\n",
    "                #affichage(wrong_word, cosine_distance_corrections)\n",
    "\n",
    "\n",
    "            ###################### DISTANCE 5 :  Hamming Distance\n",
    "            if Hamming:\n",
    "                hamming_distance_scores = [ textdistance.hamming.distance(v, wrong_word) for v in vocab ]\n",
    "                hamming_distance_corrections = find_best_candidates(vocab, hamming_distance_scores, 3, False )\n",
    "\n",
    "                print('Corrections using hamming distance : ')\n",
    "                hamming_distance_corrections = classifier(lexique, wrong_word, hamming_distance_corrections , ordre= 'unigram' )\n",
    "                #affichage(wrong_word, hamming_distance_corrections)\n",
    "\n",
    "\n",
    "           ###################### DISTANCE 6 :  longest common substring similarity LCSS\n",
    "            if LCSS:\n",
    "                LCSS_scores = [ textdistance.lcsstr.similarity(v, wrong_word) for v in vocab ]\n",
    "                LCSS_corrections = find_best_candidates(vocab, LCSS_scores, 3, True )\n",
    "\n",
    "                print('Corrections using LCSS : ')\n",
    "                LCSS_corrections = classifier(lexique, wrong_word, LCSS_corrections )\n",
    "                #affichage(wrong_word, LCSS_corrections)\n",
    "\n",
    "\n",
    "           ###################### DISTANCE 7 : Damerau levenshtein\n",
    "            if Damerau_levenshtein:\n",
    "                damerau_levenshtein_scores = [ textdistance.damerau_levenshtein.distance(v, wrong_word) for v in vocab ]\n",
    "                damerau_levenshtein_corrections = find_best_candidates(vocab, damerau_levenshtein_scores, 3, False )\n",
    "\n",
    "                print('Corrections using damerau_levenshtein : ')\n",
    "                damerau_levenshtein_corrections = classifier(lexique, wrong_word, damerau_levenshtein_corrections )\n",
    "                #affichage(wrong_word, damerau_levenshtein_corrections)\n",
    "\n",
    "\n",
    "           ###################### DISTANCE 8 :  Soundex\n",
    "            if soundex:\n",
    "\n",
    "\n",
    "                # We want Englidh corrections --> remove non english corrections (-1)\n",
    "                new_vocab = [ v for v in vocab if instance.compare(v, wrong_word) >= 0 ]\n",
    "\n",
    "                Soundex_scores = [ instance.compare(v, wrong_word) for v in new_vocab ]\n",
    "                Soundex_corrections = find_best_candidates(new_vocab, Soundex_scores, 3, False )\n",
    "\n",
    "                print('Corrections using Soundex : ')\n",
    "                Soundex_corrections = classifier(lexique, wrong_word, Soundex_corrections )\n",
    "                #affichage(wrong_word, Soundex_corrections)\n",
    "\n",
    "\n",
    "            ###################### DISTANCE 9 :  Needleman Wunsch\n",
    "            if needleman_wunsch:\n",
    "\n",
    "                needleman_wunsch_scores = [ textdistance.needleman_wunsch.distance(v, wrong_word) for v in vocab ]\n",
    "                needleman_wunsch_corrections = find_best_candidates(vocab, needleman_wunsch_scores, 3, False )\n",
    "\n",
    "                print('Corrections using needleman_wunsch : ')\n",
    "                needleman_wunsch_corrections = classifier(lexique, wrong_word, needleman_wunsch_corrections )\n",
    "                #affichage(wrong_word, needleman_wunsch_corrections)\n",
    "\n",
    "\n",
    "\n",
    "\n",
    "    f.close()\n",
    "    "
   ]
  },
  {
   "cell_type": "code",
   "execution_count": 381,
   "metadata": {},
   "outputs": [
    {
     "name": "stdout",
     "output_type": "stream",
     "text": [
      "********************************* aple\n",
      "Corrections using jaro_winkler distance :\n",
      "aple\taple\tapley\tapple\n",
      "Corrections using Soundex : \n",
      "aple\tÃ£Â©clairs\t'amelio\t'Ã£Â‰quipe\t'arques\t-a-year\t'ayin\t'briens\t-don\t'dou\tÃªÂ¼it\t.edu\t'escargot\t'etich\t.even\t'hÃ£Â´te\t-koh\t'neill-trained\t,the\t'ud\t.when\t'acosta\tÃ£Â‰dith\t'afari\t'afrique\t'ahau\t'aiguillon-sur-mer\tÃ£Â‰lysÃ£Â©es\t'ameh\t'americain\t'andratx\tÃ£Â©tÃ£Â©\t'berry\t-do\tÃªÂ¼em\tÃªÂ¼gulf\t-for\t.is\t'keese\t'lantern\t-level\t'looking\t-mee\t-neh-zhahd\t'not\t.nyc\t-one\t'rawe\t's-head\t'shon\t's-rights\t'ss\t's-wear\t,they\t-uh-vich\tÃ£Â‰ireann\t.all\t'athification\t'aveni\t'bami\tÃªÂ¼ÃªÂ¼it\tÃªÂ¼no\t'ecole\t'ermilio\t'errico\t'heure\t'horizon\t'hotel\t-isms\t'la\t'll-miss-it\t'ma\t'malia\t-no\t'orazio\t.print\t'rahilly\t'rel\t'unita\t.well\t-when\t.why\t'alsace\t'ambrosi\t'annunzio\t'antuono\t'artaix\t'au\t'avvenire\tÃ£Â–zil\t'boy\t'connors\t'donis\t'donohue\t'es\t.eu\t-former\t.fox\t'hui\t-including\t-kee\t'mahoney\t.mscief\t'n'bars\t'oglio\t'orangerie\t'saisons\t-seeking\t's-feet\t-us\t'war\t.xal\t'zone\t'aetoa\t'ahmed\t'aja\t'alba\t'apai\t'argenteuil\t'asi\t-at\t.at\t'avanzo\t-er\t-hereunder\t.html\t'lisa\t'mairthini\t'neals\t'orefice\t'ou\t'roses\t'shanter\t.she\t-so\t's-related\t-there\t-tree\t-what\t'zhana\t'ada\tÃ£Â‰lectricitÃ£Â©\t'amatriciana\t'bleness\t-dyev\tÃªÂ¼ÃªÂ¼this\t-enabled\t.how\t'id\t'ippolito\t'leh\t'oisans\t'quan\t's-eye-view\t't-she\t'wester\t'agde\t'Ã£Â‰tape\t'espagnat\t'etudes\t-he\t'neills\t'ry\t's-eyes\t's-worth\t'sync\t'young\t'abruzzo\t'alon\t,and\t'ar\t'arpizio\t'donohoe\tÃªÂ¼ÃªÂ¼i\t'eh\t.gov\t'im\t-ism\t'lud\t.my\t.now\t'on\t'opera\t'ordre\t-skee\t's-nest\t'steen\t'ti\t-to\t.to\t'uomo\t'ab\t'air\t'anana\t.as\t'doye\t'equity\t'esprit\t-ing\t-is\t.just\t'lugoff\t.no\t'oise\t'rith\t's-brand\t,,the\t.trxfldaxpu\t-who\t'afili\t-ah\t'ale\t'eda\t.gdaxi\t'herbe\t.me\t'nathan\t't-ask-don\t'urville\t'accuse\t'affairs\t'al\t'arche\t'a's\t'con\t'hurley\t'krepki\t-new\t'nor\t-nur\t'riordain\t'sdha\t'sullevan\t'uns\t'wolves\tÃ£Â©coles\t-all\t'ariv\tÃªÂ¼s\t'emilio\t.for\t-gurs\t'histoire\t'isha\t-led\t.not\t's-only\t.vix\t-wide\tÃ£Â‰milie\t'aniello\t'arienzo\tÃ£Â©tudes\t.cn\t'farrill\t'jon\t-lee\t'olio\t'qaa\t's-who\t-we\t'Ã£Â‰lÃ£Â©gance\t'alesandro\tÃ£Â–pik\tÃ£Â‰poque\t'autre\t'da\t-day\t.ftse\t'horgan\t'ib\t'image\t'nan\t-point\t'ran\t-rated\t's-style\t-this\t't-tell\tÃ£Â‰douard\t,,and\t'donnabhain\tÃªÂ¼i\t-listed\t'penny\t'une\t-acre\t'a-filo\t'alogo\t'at\tÃ£Â‰tudes\t'brien-trained\t.gspf\t'ia\t'n'bass\t-not\t'nut\t.or\t's-side\t-they\t-with\tÃ£Â‰milion\t-an\tÃ£Â©poque\t'athists\tÃ£Â‰tienne\t.djushb\tÃªÂ¼this\t'ecuyer\t'ile\t-oh\t'rivera\t's's\t'yquem\t'administration\t'amatuainu\t'asyir\t'baye\t'bryan\t'eau\t'egidio\t'haguenet\t'ie\t-ish\t-lah\t'rowe\t'shee\t.there\t'agostini\tÃ£Â‰rik\t'elia\t-foot\t'ism\t-nominated\t'sheoma\t'ami\t-as\t-or\t'amboise\t'antonio\t'as\t.asia\tÃ£Â‰tape\t'auberge\t-but\t'dor\t'eman\t'estrange\t'europe\t-nee\t's-\t.uk\t-you\t'zonzi\t'anna\t'artagnan\t'arvor\t-bathroom\t.djii\t'harnoncourt\t'ite-dominated\t'oala\t,,they\t'hÃ£Â´tel\t-lanterns\tÃ£ÂŽle\t'casey\t'hondt\t.in\t-lantern\t.rlx\t't-they\t-women\t'you\t'affaire\t'anima\t-if\t-off\t'ouverture\t'shia\t-zee\t'briain\t'kiah\t'oliveira\t'riley\t'say\t'alessio\t'avignon\tÃªÂ¼we\t'impero\t't-he\tÃ£Â¼ber\t'brickashaw\t'mison\t-month\t'alpe\tÃ£Â©minence\t'atau\t'may\t'ree\t'silva\t'ah\t'odham\t'sÃ£Âƒ\t.that\t'wren\t'andre\t'atelier\t'athist\t'bryant\t'carroll\t-length\t'origine\t'riordan\t-shaped\t.so\t-that\t.what\tÃ£Â‰dgar\t-branded\t'covan\t'elisir\t'etait\t'gog\t'hearn\t'ik\t.mac\tÃ£Â‡a\t'faolain\t.if\t.org\t-which\t-yuk\t'agata\t'alessandro\tÃ£Âvila\t'conner\t'ev\t'haiti\t'innocenzio\t'regan\t-related\t-uh\t.xxx\tÃ£Â‰ric\t'burg\t'olonne\t'oyly\t'ao\t.co.uk\t'elegance\t's-like\t'urbervilles\tÃªÂ¼dubai\tÃªÂ¼nÃªÂ¼\t'er-do-wells\t'guessan\t.he\tÃªÂ¼ÃªÂ¼we\t.mobi\t.they\t-ee\t'mahony\t.this\t'ancona\t'ipulotu\t'night\t'oh\t'orange\t'andrea\t'evelyn\t'naan\t'nora\t'oeuvre\t.pdf\t'urso\tÃ£Â§a\t'antibes\t'bama\t.axjo\t-era\t-inspired\t'offay\t'aosta\t'ers\t'ron\t's-land\t'acampo\t'jays\t'ambrosio\tÃ£Â“scar\t'elle\t-esque\t.tel\t-winning\t'boyle\t'este\t-high\t'ai\t'diaye\t'rent\tÃ£Â‰mile\t'engle\t'n'mix\tÃ£Â©lite\tÃªÂ¼ÃªÂ¼he\t'n'b\t'lakes\t's-roosevelt\t'aime\t'ali\t'ampezzo\t'occitane\t.eco\t.you\t.but\t'dwyer\t-plus\t'flaherty\t'nai\t'flynn\t'tis\t'avion\t-in\t.we\t.bkx\t'ed\t'onofrio\t'higgins\t-minute\t.ssec\t-themed\t'arte\t'espresso\t'gorman\t'melveny\t'aretz\t'il\t'fallon\t-long\t'o's\t'ad\tÃ£Âlvarez\t-it\t'brian\t'er-do-well\t'mara\t'asavalu\t'amore\t'farrell\tÃªÂ¼the\t'un\t'utri\tÃ£Â‰cole\t'argent\t-game\t.hsi\t'ing\t'mores\t'bannon\t'easter\tÃ£Â©lan\tÃ£Â©migrÃ£Â©s\t'alema\t'in\t'shaughnessy\t'ath\t'halloran\t'express\t.it\t'ufia\t't-miss\t's-length\t'know\t'Ã£Â©tat\t'uiha\t'ryan\t-inch\t'oro\t'ness\t-year-old\t'guemo\t'dour\t'isÃ£Â¨re\t-mile\t'automobile\t'doherty\t'is\tÃ£Â‰lysÃ£Â©e\t-and\t'homme\t'agostino\t'loan\t'amico\t'estaing\t'huez\t'donovan\t'von\t.dxy\t-type\t'enfant\t'quinn\tÃªÂ¼ÃªÂ¼the\t'etre\t'barry\t'orsay\t'kelly\t'twaun\tÃ£Â´l\t'honneur\t'art\t-owned\t'groats\t'alofa\t.and\t'er\t'alma\t'hagan\t'ivoire\t'oeil\t'oialo\tÃ£Â©migrÃ£Â©\t'em\t'escoto\t-based\t'kane\t'Ã£Âªtre\t'hern\t'alene\t-hour\t'amato\t'sean\t'tselem\t'loughlin\t'osservatore\t'ite-led\t'azur\t'arc\t-like\t'souza\t.net\t'blanche\t'oeuvres\t'angelo\t'day\t.the\t'isere\t-year\t.com\t'affaires\t'orÃ£Â©al\t'equipe\t'donoghue\t'ts\t'am\t'byrne\tÃ£Âlvaro\t'nt\t'amour\t'vi\tÃ£Ângel\t'hanlon\t'keeffe\t'dea\t'est\t'zogbia\t'en\t'dell\t'epargne\t'all\t.ixic\t's-eye\t'dowd\t-the\t'etat\t-style\t'meara\t'addario\t'ida\t'mon\t'grady\t'ites\t'callaghan\t.dji\t.spx\t'rourke\t'toole\t'nique\t'oreal\t'hair\t'italia\t'n'roll\t'djamena\t'arcy\t'an\t'neil\t'keefe\t'or\t'shea\t'antoni\t'gara\t'hare\t'hara\t'leary\t'driscoll\t'adua\t'sullivan\t'connell\t'clock\t'aquila\t'reilly\t'malley\t'donnell\t'ite\t'connor\t'neill\t'neal\t'brien\t'll\t've\t're\tÃ£Â©clairs\t'amelio\t'Ã£Â‰quipe\t'arques\t-a-year\t'ayin\t'briens\t-don\t'dou\tÃªÂ¼it\t.edu\t'escargot\t'etich\t.even\t'hÃ£Â´te\t-koh\t'neill-trained\t,the\t'ud\t.when\t'acosta\tÃ£Â‰dith\t'afari\t'afrique\t'ahau\t'aiguillon-sur-mer\tÃ£Â‰lysÃ£Â©es\t'ameh\t'americain\t'andratx\tÃ£Â©tÃ£Â©\t'berry\t-do\tÃªÂ¼em\tÃªÂ¼gulf\t-for\t.is\t'keese\t'lantern\t-level\t'looking\t-mee\t-neh-zhahd\t'not\t.nyc\t-one\t'rawe\t's-head\t'shon\t's-rights\t'ss\t's-wear\t,they\t-uh-vich\tÃ£Â‰ireann\t.all\t'athification\t'aveni\t'bami\tÃªÂ¼ÃªÂ¼it\tÃªÂ¼no\t'ecole\t'ermilio\t'errico\t'heure\t'horizon\t'hotel\t-isms\t'la\t'll-miss-it\t'ma\t'malia\t-no\t'orazio\t.print\t'rahilly\t'rel\t'unita\t.well\t-when\t.why\t'alsace\t'ambrosi\t'annunzio\t'antuono\t'artaix\t'au\t'avvenire\tÃ£Â–zil\t'boy\t'connors\t'donis\t'donohue\t'es\t.eu\t-former\t.fox\t'hui\t-including\t-kee\t'mahoney\t.mscief\t'n'bars\t'oglio\t'orangerie\t'saisons\t-seeking\t's-feet\t-us\t'war\t.xal\t'zone\t'aetoa\t'ahmed\t'aja\t'alba\t'apai\t'argenteuil\t'asi\t-at\t.at\t'avanzo\t-er\t-hereunder\t.html\t'lisa\t'mairthini\t'neals\t'orefice\t'ou\t'roses\t'shanter\t.she\t-so\t's-related\t-there\t-tree\t-what\t'zhana\t'ada\tÃ£Â‰lectricitÃ£Â©\t'amatriciana\t'bleness\t-dyev\tÃªÂ¼ÃªÂ¼this\t-enabled\t.how\t'id\t'ippolito\t'leh\t'oisans\t'quan\t's-eye-view\t't-she\t'wester\t'agde\t'Ã£Â‰tape\t'espagnat\t'etudes\t-he\t'neills\t'ry\t's-eyes\t's-worth\t'sync\t'young\t'abruzzo\t'alon\t,and\t'ar\t'arpizio\t'donohoe\tÃªÂ¼ÃªÂ¼i\t'eh\t.gov\t'im\t-ism\t'lud\t.my\t.now\t'on\t'opera\t'ordre\t-skee\t's-nest\t'steen\t'ti\t-to\t.to\t'uomo\t'ab\t'air\t'anana\t.as\t'doye\t'equity\t'esprit\t-ing\t-is\t.just\t'lugoff\t.no\t'oise\t'rith\t's-brand\t,,the\t.trxfldaxpu\t-who\t'afili\t-ah\t'ale\t'eda\t.gdaxi\t'herbe\t.me\t'nathan\t't-ask-don\t'urville\t'accuse\t'affairs\t'al\t'arche\t'a's\t'con\t'hurley\t'krepki\t-new\t'nor\t-nur\t'riordain\t'sdha\t'sullevan\t'uns\t'wolves\tÃ£Â©coles\t-all\t'ariv\tÃªÂ¼s\t'emilio\t.for\t-gurs\t'histoire\t'isha\t-led\t.not\t's-only\t.vix\t-wide\tÃ£Â‰milie\t'aniello\t'arienzo\tÃ£Â©tudes\t.cn\t'farrill\t'jon\t-lee\t'olio\t'qaa\t's-who\t-we\t'Ã£Â‰lÃ£Â©gance\t'alesandro\tÃ£Â–pik\tÃ£Â‰poque\t'autre\t'da\t-day\t.ftse\t'horgan\t'ib\t'image\t'nan\t-point\t'ran\t-rated\t's-style\t-this\t't-tell\tÃ£Â‰douard\t,,and\t'donnabhain\tÃªÂ¼i\t-listed\t'penny\t'une\t-acre\t'a-filo\t'alogo\t'at\tÃ£Â‰tudes\t'brien-trained\t.gspf\t'ia\t'n'bass\t-not\t'nut\t.or\t's-side\t-they\t-with\tÃ£Â‰milion\t-an\tÃ£Â©poque\t'athists\tÃ£Â‰tienne\t.djushb\tÃªÂ¼this\t'ecuyer\t'ile\t-oh\t'rivera\t's's\t'yquem\t'administration\t'amatuainu\t'asyir\t'baye\t'bryan\t'eau\t'egidio\t'haguenet\t'ie\t-ish\t-lah\t'rowe\t'shee\t.there\t'agostini\tÃ£Â‰rik\t'elia\t-foot\t'ism\t-nominated\t'sheoma\t'ami\t-as\t-or\t'amboise\t'antonio\t'as\t.asia\tÃ£Â‰tape\t'auberge\t-but\t'dor\t'eman\t'estrange\t'europe\t-nee\t's-\t.uk\t-you\t'zonzi\t'anna\t'artagnan\t'arvor\t-bathroom\t.djii\t'harnoncourt\t'ite-dominated\t'oala\t,,they\t'hÃ£Â´tel\t-lanterns\tÃ£ÂŽle\t'casey\t'hondt\t.in\t-lantern\t.rlx\t't-they\t-women\t'you\t'affaire\t'anima\t-if\t-off\t'ouverture\t'shia\t-zee\t'briain\t'kiah\t'oliveira\t'riley\t'say\t'alessio\t'avignon\tÃªÂ¼we\t'impero\t't-he\tÃ£Â¼ber\t'brickashaw\t'mison\t-month\t'alpe\tÃ£Â©minence\t'atau\t'may\t'ree\t'silva\t'ah\t'odham\t'sÃ£Âƒ\t.that\t'wren\t'andre\t'atelier\t'athist\t'bryant\t'carroll\t-length\t'origine\t'riordan\t-shaped\t.so\t-that\t.what\tÃ£Â‰dgar\t-branded\t'covan\t'elisir\t'etait\t'gog\t'hearn\t'ik\t.mac\tÃ£Â‡a\t'faolain\t.if\t.org\t-which\t-yuk\t'agata\t'alessandro\tÃ£Âvila\t'conner\t'ev\t'haiti\t'innocenzio\t'regan\t-related\t-uh\t.xxx\tÃ£Â‰ric\t'burg\t'olonne\t'oyly\t'ao\t.co.uk\t'elegance\t's-like\t'urbervilles\tÃªÂ¼dubai\tÃªÂ¼nÃªÂ¼\t'er-do-wells\t'guessan\t.he\tÃªÂ¼ÃªÂ¼we\t.mobi\t.they\t-ee\t'mahony\t.this\t'ancona\t'ipulotu\t'night\t'oh\t'orange\t'andrea\t'evelyn\t'naan\t'nora\t'oeuvre\t.pdf\t'urso\tÃ£Â§a\t'antibes\t'bama\t.axjo\t-era\t-inspired\t'offay\t'aosta\t'ers\t'ron\t's-land\t'acampo\t'jays\t'ambrosio\tÃ£Â“scar\t'elle\t-esque\t.tel\t-winning\t'boyle\t'este\t-high\t'ai\t'diaye\t'rent\tÃ£Â‰mile\t'engle\t'n'mix\tÃ£Â©lite\tÃªÂ¼ÃªÂ¼he\t'n'b\t'lakes\t's-roosevelt\t'aime\t'ali\t'ampezzo\t'occitane\t.eco\t.you\t.but\t'dwyer\t-plus\t'flaherty\t'nai\t'flynn\t'tis\t'avion\t-in\t.we\t.bkx\t'ed\t'onofrio\t'higgins\t-minute\t.ssec\t-themed\t'arte\t'espresso\t'gorman\t'melveny\t'aretz\t'il\t'fallon\t-long\t'o's\t'ad\tÃ£Âlvarez\t-it\t'brian\t'er-do-well\t'mara\t'asavalu\t'amore\t'farrell\tÃªÂ¼the\t'un\t'utri\tÃ£Â‰cole\t'argent\t-game\t.hsi\t'ing\t'mores\t'bannon\t'easter\tÃ£Â©lan\tÃ£Â©migrÃ£Â©s\t'alema\t'in\t'shaughnessy\t'ath\t'halloran\t'express\t.it\t'ufia\t't-miss\t's-length\t'know\t'Ã£Â©tat\t'uiha\t'ryan\t-inch\t'oro\t'ness\t-year-old\t'guemo\t'dour\t'isÃ£Â¨re\t-mile\t'automobile\t'doherty\t'is\tÃ£Â‰lysÃ£Â©e\t-and\t'homme\t'agostino\t'loan\t'amico\t'estaing\t'huez\t'donovan\t'von\t.dxy\t-type\t'enfant\t'quinn\tÃªÂ¼ÃªÂ¼the\t'etre\t'barry\t'orsay\t'kelly\t'twaun\tÃ£Â´l\t'honneur\t'art\t-owned\t'groats\t'alofa\t.and\t'er\t'alma\t'hagan\t'ivoire\t'oeil\t'oialo\tÃ£Â©migrÃ£Â©\t'em\t'escoto\t-based\t'kane\t'Ã£Âªtre\t'hern\t'alene\t-hour\t'amato\t'sean\t'tselem\t'loughlin\t'osservatore\t'ite-led\t'azur\t'arc\t-like\t'souza\t.net\t'blanche\t'oeuvres\t'angelo\t'day\t.the\t'isere\t-year\t.com\t'affaires\t'orÃ£Â©al\t'equipe\t'donoghue\t'ts\t'am\t'byrne\tÃ£Âlvaro\t'nt\t'amour\t'vi\tÃ£Ângel\t'hanlon\t'keeffe\t'dea\t'est\t'zogbia\t'en\t'dell\t'epargne\t'all\t.ixic\t's-eye\t'dowd\t-the\t'etat\t-style\t'meara\t'addario\t'ida\t'mon\t'grady\t'ites\t'callaghan\t.dji\t.spx\t'rourke\t'toole\t'nique\t'oreal\t'hair\t'italia\t'n'roll\t'djamena\t'arcy\t'an\t'neil\t'keefe\t'or\t'shea\t'antoni\t'gara\t'hare\t'hara\t'leary\t'driscoll\t'adua\t'sullivan\t'connell\t'clock\t'aquila\t'reilly\t'malley\t'donnell\t'ite\t'connor\t'neill\t'neal\t'brien\t'll\t've\t're\tÃ£Â©clairs\t'amelio\t'Ã£Â‰quipe\t'arques\t-a-year\t'ayin\t'briens\t-don\t'dou\tÃªÂ¼it\t.edu\t'escargot\t'etich\t.even\t'hÃ£Â´te\t-koh\t'neill-trained\t,the\t'ud\t.when\t'acosta\tÃ£Â‰dith\t'afari\t'afrique\t'ahau\t'aiguillon-sur-mer\tÃ£Â‰lysÃ£Â©es\t'ameh\t'americain\t'andratx\tÃ£Â©tÃ£Â©\t'berry\t-do\tÃªÂ¼em\tÃªÂ¼gulf\t-for\t.is\t'keese\t'lantern\t-level\t'looking\t-mee\t-neh-zhahd\t'not\t.nyc\t-one\t'rawe\t's-head\t'shon\t's-rights\t'ss\t's-wear\t,they\t-uh-vich\tÃ£Â‰ireann\t.all\t'athification\t'aveni\t'bami\tÃªÂ¼ÃªÂ¼it\tÃªÂ¼no\t'ecole\t'ermilio\t'errico\t'heure\t'horizon\t'hotel\t-isms\t'la\t'll-miss-it\t'ma\t'malia\t-no\t'orazio\t.print\t'rahilly\t'rel\t'unita\t.well\t-when\t.why\t'alsace\t'ambrosi\t'annunzio\t'antuono\t'artaix\t'au\t'avvenire\tÃ£Â–zil\t'boy\t'connors\t'donis\t'donohue\t'es\t.eu\t-former\t.fox\t'hui\t-including\t-kee\t'mahoney\t.mscief\t'n'bars\t'oglio\t'orangerie\t'saisons\t-seeking\t's-feet\t-us\t'war\t.xal\t'zone\t'aetoa\t'ahmed\t'aja\t'alba\t'apai\t'argenteuil\t'asi\t-at\t.at\t'avanzo\t-er\t-hereunder\t.html\t'lisa\t'mairthini\t'neals\t'orefice\t'ou\t'roses\t'shanter\t.she\t-so\t's-related\t-there\t-tree\t-what\t'zhana\t'ada\tÃ£Â‰lectricitÃ£Â©\t'amatriciana\t'bleness\t-dyev\tÃªÂ¼ÃªÂ¼this\t-enabled\t.how\t'id\t'ippolito\t'leh\t'oisans\t'quan\t's-eye-view\t't-she\t'wester\t'agde\t'Ã£Â‰tape\t'espagnat\t'etudes\t-he\t'neills\t'ry\t's-eyes\t's-worth\t'sync\t'young\t'abruzzo\t'alon\t,and\t'ar\t'arpizio\t'donohoe\tÃªÂ¼ÃªÂ¼i\t'eh\t.gov\t'im\t-ism\t'lud\t.my\t.now\t'on\t'opera\t'ordre\t-skee\t's-nest\t'steen\t'ti\t-to\t.to\t'uomo\t'ab\t'air\t'anana\t.as\t'doye\t'equity\t'esprit\t-ing\t-is\t.just\t'lugoff\t.no\t'oise\t'rith\t's-brand\t,,the\t.trxfldaxpu\t-who\t'afili\t-ah\t'ale\t'eda\t.gdaxi\t'herbe\t.me\t'nathan\t't-ask-don\t'urville\t'accuse\t'affairs\t'al\t'arche\t'a's\t'con\t'hurley\t'krepki\t-new\t'nor\t-nur\t'riordain\t'sdha\t'sullevan\t'uns\t'wolves\tÃ£Â©coles\t-all\t'ariv\tÃªÂ¼s\t'emilio\t.for\t-gurs\t'histoire\t'isha\t-led\t.not\t's-only\t.vix\t-wide\tÃ£Â‰milie\t'aniello\t'arienzo\tÃ£Â©tudes\t.cn\t'farrill\t'jon\t-lee\t'olio\t'qaa\t's-who\t-we\t'Ã£Â‰lÃ£Â©gance\t'alesandro\tÃ£Â–pik\tÃ£Â‰poque\t'autre\t'da\t-day\t.ftse\t'horgan\t'ib\t'image\t'nan\t-point\t'ran\t-rated\t's-style\t-this\t't-tell\tÃ£Â‰douard\t,,and\t'donnabhain\tÃªÂ¼i\t-listed\t'penny\t'une\t-acre\t'a-filo\t'alogo\t'at\tÃ£Â‰tudes\t'brien-trained\t.gspf\t'ia\t'n'bass\t-not\t'nut\t.or\t's-side\t-they\t-with\tÃ£Â‰milion\t-an\tÃ£Â©poque\t'athists\tÃ£Â‰tienne\t.djushb\tÃªÂ¼this\t'ecuyer\t'ile\t-oh\t'rivera\t's's\t'yquem\t'administration\t'amatuainu\t'asyir\t'baye\t'bryan\t'eau\t'egidio\t'haguenet\t'ie\t-ish\t-lah\t'rowe\t'shee\t.there\t'agostini\tÃ£Â‰rik\t'elia\t-foot\t'ism\t-nominated\t'sheoma\t'ami\t-as\t-or\t'amboise\t'antonio\t'as\t.asia\tÃ£Â‰tape\t'auberge\t-but\t'dor\t'eman\t'estrange\t'europe\t-nee\t's-\t.uk\t-you\t'zonzi\t'anna\t'artagnan\t'arvor\t-bathroom\t.djii\t'harnoncourt\t'ite-dominated\t'oala\t,,they\t'hÃ£Â´tel\t-lanterns\tÃ£ÂŽle\t'casey\t'hondt\t.in\t-lantern\t.rlx\t't-they\t-women\t'you\t'affaire\t'anima\t-if\t-off\t'ouverture\t'shia\t-zee\t'briain\t'kiah\t'oliveira\t'riley\t'say\t'alessio\t'avignon\tÃªÂ¼we\t'impero\t't-he\tÃ£Â¼ber\t'brickashaw\t'mison\t-month\t'alpe\tÃ£Â©minence\t'atau\t'may\t'ree\t'silva\t'ah\t'odham\t'sÃ£Âƒ\t.that\t'wren\t'andre\t'atelier\t'athist\t'bryant\t'carroll\t-length\t'origine\t'riordan\t-shaped\t.so\t-that\t.what\tÃ£Â‰dgar\t-branded\t'covan\t'elisir\t'etait\t'gog\t'hearn\t'ik\t.mac\tÃ£Â‡a\t'faolain\t.if\t.org\t-which\t-yuk\t'agata\t'alessandro\tÃ£Âvila\t'conner\t'ev\t'haiti\t'innocenzio\t'regan\t-related\t-uh\t.xxx\tÃ£Â‰ric\t'burg\t'olonne\t'oyly\t'ao\t.co.uk\t'elegance\t's-like\t'urbervilles\tÃªÂ¼dubai\tÃªÂ¼nÃªÂ¼\t'er-do-wells\t'guessan\t.he\tÃªÂ¼ÃªÂ¼we\t.mobi\t.they\t-ee\t'mahony\t.this\t'ancona\t'ipulotu\t'night\t'oh\t'orange\t'andrea\t'evelyn\t'naan\t'nora\t'oeuvre\t.pdf\t'urso\tÃ£Â§a\t'antibes\t'bama\t.axjo\t-era\t-inspired\t'offay\t'aosta\t'ers\t'ron\t's-land\t'acampo\t'jays\t'ambrosio\tÃ£Â“scar\t'elle\t-esque\t.tel\t-winning\t'boyle\t'este\t-high\t'ai\t'diaye\t'rent\tÃ£Â‰mile\t'engle\t'n'mix\tÃ£Â©lite\tÃªÂ¼ÃªÂ¼he\t'n'b\t'lakes\t's-roosevelt\t'aime\t'ali\t'ampezzo\t'occitane\t.eco\t.you\t.but\t'dwyer\t-plus\t'flaherty\t'nai\t'flynn\t'tis\t'avion\t-in\t.we\t.bkx\t'ed\t'onofrio\t'higgins\t-minute\t.ssec\t-themed\t'arte\t'espresso\t'gorman\t'melveny\t'aretz\t'il\t'fallon\t-long\t'o's\t'ad\tÃ£Âlvarez\t-it\t'brian\t'er-do-well\t'mara\t'asavalu\t'amore\t'farrell\tÃªÂ¼the\t'un\t'utri\tÃ£Â‰cole\t'argent\t-game\t.hsi\t'ing\t'mores\t'bannon\t'easter\tÃ£Â©lan\tÃ£Â©migrÃ£Â©s\t'alema\t'in\t'shaughnessy\t'ath\t'halloran\t'express\t.it\t'ufia\t't-miss\t's-length\t'know\t'Ã£Â©tat\t'uiha\t'ryan\t-inch\t'oro\t'ness\t-year-old\t'guemo\t'dour\t'isÃ£Â¨re\t-mile\t'automobile\t'doherty\t'is\tÃ£Â‰lysÃ£Â©e\t-and\t'homme\t'agostino\t'loan\t'amico\t'estaing\t'huez\t'donovan\t'von\t.dxy\t-type\t'enfant\t'quinn\tÃªÂ¼ÃªÂ¼the\t'etre\t'barry\t'orsay\t'kelly\t'twaun\tÃ£Â´l\t'honneur\t'art\t-owned\t'groats\t'alofa\t.and\t'er\t'alma\t'hagan\t'ivoire\t'oeil\t'oialo\tÃ£Â©migrÃ£Â©\t'em\t'escoto\t-based\t'kane\t'Ã£Âªtre\t'hern\t'alene\t-hour\t'amato\t'sean\t'tselem\t'loughlin\t'osservatore\t'ite-led\t'azur\t'arc\t-like\t'souza\t.net\t'blanche\t'oeuvres\t'angelo\t'day\t.the\t'isere\t-year\t.com\t'affaires\t'orÃ£Â©al\t'equipe\t'donoghue\t'ts\t'am\t'byrne\tÃ£Âlvaro\t'nt\t'amour\t'vi\tÃ£Ângel\t'hanlon\t'keeffe\t'dea\t'est\t'zogbia\t'en\t'dell\t'epargne\t'all\t.ixic\t's-eye\t'dowd\t-the\t'etat\t-style\t'meara\t'addario\t'ida\t'mon\t'grady\t'ites\t'callaghan\t.dji\t.spx\t'rourke\t'toole\t'nique\t'oreal\t'hair\t'italia\t'n'roll\t'djamena\t'arcy\t'an\t'neil\t'keefe\t'or\t'shea\t'antoni\t'gara\t'hare\t'hara\t'leary\t'driscoll\t'adua\t'sullivan\t'connell\t'clock\t'aquila\t'reilly\t'malley\t'donnell\t'ite\t'connor\t'neill\t'neal\t'brien\t'll\t've\t're\n",
      "********************************* juce\n",
      "Corrections using jaro_winkler distance :\n",
      "juce\tjuche\tjuice\tjue\n",
      "Corrections using Soundex : \n",
      "juce\tÃ£Â©clairs\t'amelio\t'Ã£Â‰quipe\t'arques\t-a-year\t'ayin\t'briens\t-don\t'dou\tÃªÂ¼it\t.edu\t'escargot\t'etich\t.even\t'hÃ£Â´te\t-koh\t'neill-trained\t,the\t'ud\t.when\t'acosta\tÃ£Â‰dith\t'afari\t'afrique\t'ahau\t'aiguillon-sur-mer\tÃ£Â‰lysÃ£Â©es\t'ameh\t'americain\t'andratx\tÃ£Â©tÃ£Â©\t'berry\t-do\tÃªÂ¼em\tÃªÂ¼gulf\t-for\t.is\t'keese\t'lantern\t-level\t'looking\t-mee\t-neh-zhahd\t'not\t.nyc\t-one\t'rawe\t's-head\t'shon\t's-rights\t'ss\t's-wear\t,they\t-uh-vich\tÃ£Â‰ireann\t.all\t'athification\t'aveni\t'bami\tÃªÂ¼ÃªÂ¼it\tÃªÂ¼no\t'ecole\t'ermilio\t'errico\t'heure\t'horizon\t'hotel\t-isms\t'la\t'll-miss-it\t'ma\t'malia\t-no\t'orazio\t.print\t'rahilly\t'rel\t'unita\t.well\t-when\t.why\t'alsace\t'ambrosi\t'annunzio\t'antuono\t'artaix\t'au\t'avvenire\tÃ£Â–zil\t'boy\t'connors\t'donis\t'donohue\t'es\t.eu\t-former\t.fox\t'hui\t-including\t-kee\t'mahoney\t.mscief\t'n'bars\t'oglio\t'orangerie\t'saisons\t-seeking\t's-feet\t-us\t'war\t.xal\t'zone\t'aetoa\t'ahmed\t'aja\t'alba\t'apai\t'argenteuil\t'asi\t-at\t.at\t'avanzo\t-er\t-hereunder\t.html\t'lisa\t'mairthini\t'neals\t'orefice\t'ou\t'roses\t'shanter\t.she\t-so\t's-related\t-there\t-tree\t-what\t'zhana\t'ada\tÃ£Â‰lectricitÃ£Â©\t'amatriciana\t'bleness\t-dyev\tÃªÂ¼ÃªÂ¼this\t-enabled\t.how\t'id\t'ippolito\t'leh\t'oisans\t'quan\t's-eye-view\t't-she\t'wester\t'agde\t'Ã£Â‰tape\t'espagnat\t'etudes\t-he\t'neills\t'ry\t's-eyes\t's-worth\t'sync\t'young\t'abruzzo\t'alon\t,and\t'ar\t'arpizio\t'donohoe\tÃªÂ¼ÃªÂ¼i\t'eh\t.gov\t'im\t-ism\t'lud\t.my\t.now\t'on\t'opera\t'ordre\t-skee\t's-nest\t'steen\t'ti\t-to\t.to\t'uomo\t'ab\t'air\t'anana\t.as\t'doye\t'equity\t'esprit\t-ing\t-is\t.just\t'lugoff\t.no\t'oise\t'rith\t's-brand\t,,the\t.trxfldaxpu\t-who\t'afili\t-ah\t'ale\t'eda\t.gdaxi\t'herbe\t.me\t'nathan\t't-ask-don\t'urville\t'accuse\t'affairs\t'al\t'arche\t'a's\t'con\t'hurley\t'krepki\t-new\t'nor\t-nur\t'riordain\t'sdha\t'sullevan\t'uns\t'wolves\tÃ£Â©coles\t-all\t'ariv\tÃªÂ¼s\t'emilio\t.for\t-gurs\t'histoire\t'isha\t-led\t.not\t's-only\t.vix\t-wide\tÃ£Â‰milie\t'aniello\t'arienzo\tÃ£Â©tudes\t.cn\t'farrill\t'jon\t-lee\t'olio\t'qaa\t's-who\t-we\t'Ã£Â‰lÃ£Â©gance\t'alesandro\tÃ£Â–pik\tÃ£Â‰poque\t'autre\t'da\t-day\t.ftse\t'horgan\t'ib\t'image\t'nan\t-point\t'ran\t-rated\t's-style\t-this\t't-tell\tÃ£Â‰douard\t,,and\t'donnabhain\tÃªÂ¼i\t-listed\t'penny\t'une\t-acre\t'a-filo\t'alogo\t'at\tÃ£Â‰tudes\t'brien-trained\t.gspf\t'ia\t'n'bass\t-not\t'nut\t.or\t's-side\t-they\t-with\tÃ£Â‰milion\t-an\tÃ£Â©poque\t'athists\tÃ£Â‰tienne\t.djushb\tÃªÂ¼this\t'ecuyer\t'ile\t-oh\t'rivera\t's's\t'yquem\t'administration\t'amatuainu\t'asyir\t'baye\t'bryan\t'eau\t'egidio\t'haguenet\t'ie\t-ish\t-lah\t'rowe\t'shee\t.there\t'agostini\tÃ£Â‰rik\t'elia\t-foot\t'ism\t-nominated\t'sheoma\t'ami\t-as\t-or\t'amboise\t'antonio\t'as\t.asia\tÃ£Â‰tape\t'auberge\t-but\t'dor\t'eman\t'estrange\t'europe\t-nee\t's-\t.uk\t-you\t'zonzi\t'anna\t'artagnan\t'arvor\t-bathroom\t.djii\t'harnoncourt\t'ite-dominated\t'oala\t,,they\t'hÃ£Â´tel\t-lanterns\tÃ£ÂŽle\t'casey\t'hondt\t.in\t-lantern\t.rlx\t't-they\t-women\t'you\t'affaire\t'anima\t-if\t-off\t'ouverture\t'shia\t-zee\t'briain\t'kiah\t'oliveira\t'riley\t'say\t'alessio\t'avignon\tÃªÂ¼we\t'impero\t't-he\tÃ£Â¼ber\t'brickashaw\t'mison\t-month\t'alpe\tÃ£Â©minence\t'atau\t'may\t'ree\t'silva\t'ah\t'odham\t'sÃ£Âƒ\t.that\t'wren\t'andre\t'atelier\t'athist\t'bryant\t'carroll\t-length\t'origine\t'riordan\t-shaped\t.so\t-that\t.what\tÃ£Â‰dgar\t-branded\t'covan\t'elisir\t'etait\t'gog\t'hearn\t'ik\t.mac\tÃ£Â‡a\t'faolain\t.if\t.org\t-which\t-yuk\t'agata\t'alessandro\tÃ£Âvila\t'conner\t'ev\t'haiti\t'innocenzio\t'regan\t-related\t-uh\t.xxx\tÃ£Â‰ric\t'burg\t'olonne\t'oyly\t'ao\t.co.uk\t'elegance\t's-like\t'urbervilles\tÃªÂ¼dubai\tÃªÂ¼nÃªÂ¼\t'er-do-wells\t'guessan\t.he\tÃªÂ¼ÃªÂ¼we\t.mobi\t.they\t-ee\t'mahony\t.this\t'ancona\t'ipulotu\t'night\t'oh\t'orange\t'andrea\t'evelyn\t'naan\t'nora\t'oeuvre\t.pdf\t'urso\tÃ£Â§a\t'antibes\t'bama\t.axjo\t-era\t-inspired\t'offay\t'aosta\t'ers\t'ron\t's-land\t'acampo\t'jays\t'ambrosio\tÃ£Â“scar\t'elle\t-esque\t.tel\t-winning\t'boyle\t'este\t-high\t'ai\t'diaye\t'rent\tÃ£Â‰mile\t'engle\t'n'mix\tÃ£Â©lite\tÃªÂ¼ÃªÂ¼he\t'n'b\t'lakes\t's-roosevelt\t'aime\t'ali\t'ampezzo\t'occitane\t.eco\t.you\t.but\t'dwyer\t-plus\t'flaherty\t'nai\t'flynn\t'tis\t'avion\t-in\t.we\t.bkx\t'ed\t'onofrio\t'higgins\t-minute\t.ssec\t-themed\t'arte\t'espresso\t'gorman\t'melveny\t'aretz\t'il\t'fallon\t-long\t'o's\t'ad\tÃ£Âlvarez\t-it\t'brian\t'er-do-well\t'mara\t'asavalu\t'amore\t'farrell\tÃªÂ¼the\t'un\t'utri\tÃ£Â‰cole\t'argent\t-game\t.hsi\t'ing\t'mores\t'bannon\t'easter\tÃ£Â©lan\tÃ£Â©migrÃ£Â©s\t'alema\t'in\t'shaughnessy\t'ath\t'halloran\t'express\t.it\t'ufia\t't-miss\t's-length\t'know\t'Ã£Â©tat\t'uiha\t'ryan\t-inch\t'oro\t'ness\t-year-old\t'guemo\t'dour\t'isÃ£Â¨re\t-mile\t'automobile\t'doherty\t'is\tÃ£Â‰lysÃ£Â©e\t-and\t'homme\t'agostino\t'loan\t'amico\t'estaing\t'huez\t'donovan\t'von\t.dxy\t-type\t'enfant\t'quinn\tÃªÂ¼ÃªÂ¼the\t'etre\t'barry\t'orsay\t'kelly\t'twaun\tÃ£Â´l\t'honneur\t'art\t-owned\t'groats\t'alofa\t.and\t'er\t'alma\t'hagan\t'ivoire\t'oeil\t'oialo\tÃ£Â©migrÃ£Â©\t'em\t'escoto\t-based\t'kane\t'Ã£Âªtre\t'hern\t'alene\t-hour\t'amato\t'sean\t'tselem\t'loughlin\t'osservatore\t'ite-led\t'azur\t'arc\t-like\t'souza\t.net\t'blanche\t'oeuvres\t'angelo\t'day\t.the\t'isere\t-year\t.com\t'affaires\t'orÃ£Â©al\t'equipe\t'donoghue\t'ts\t'am\t'byrne\tÃ£Âlvaro\t'nt\t'amour\t'vi\tÃ£Ângel\t'hanlon\t'keeffe\t'dea\t'est\t'zogbia\t'en\t'dell\t'epargne\t'all\t.ixic\t's-eye\t'dowd\t-the\t'etat\t-style\t'meara\t'addario\t'ida\t'mon\t'grady\t'ites\t'callaghan\t.dji\t.spx\t'rourke\t'toole\t'nique\t'oreal\t'hair\t'italia\t'n'roll\t'djamena\t'arcy\t'an\t'neil\t'keefe\t'or\t'shea\t'antoni\t'gara\t'hare\t'hara\t'leary\t'driscoll\t'adua\t'sullivan\t'connell\t'clock\t'aquila\t'reilly\t'malley\t'donnell\t'ite\t'connor\t'neill\t'neal\t'brien\t'll\t've\t're\tÃ£Â©clairs\t'amelio\t'Ã£Â‰quipe\t'arques\t-a-year\t'ayin\t'briens\t-don\t'dou\tÃªÂ¼it\t.edu\t'escargot\t'etich\t.even\t'hÃ£Â´te\t-koh\t'neill-trained\t,the\t'ud\t.when\t'acosta\tÃ£Â‰dith\t'afari\t'afrique\t'ahau\t'aiguillon-sur-mer\tÃ£Â‰lysÃ£Â©es\t'ameh\t'americain\t'andratx\tÃ£Â©tÃ£Â©\t'berry\t-do\tÃªÂ¼em\tÃªÂ¼gulf\t-for\t.is\t'keese\t'lantern\t-level\t'looking\t-mee\t-neh-zhahd\t'not\t.nyc\t-one\t'rawe\t's-head\t'shon\t's-rights\t'ss\t's-wear\t,they\t-uh-vich\tÃ£Â‰ireann\t.all\t'athification\t'aveni\t'bami\tÃªÂ¼ÃªÂ¼it\tÃªÂ¼no\t'ecole\t'ermilio\t'errico\t'heure\t'horizon\t'hotel\t-isms\t'la\t'll-miss-it\t'ma\t'malia\t-no\t'orazio\t.print\t'rahilly\t'rel\t'unita\t.well\t-when\t.why\t'alsace\t'ambrosi\t'annunzio\t'antuono\t'artaix\t'au\t'avvenire\tÃ£Â–zil\t'boy\t'connors\t'donis\t'donohue\t'es\t.eu\t-former\t.fox\t'hui\t-including\t-kee\t'mahoney\t.mscief\t'n'bars\t'oglio\t'orangerie\t'saisons\t-seeking\t's-feet\t-us\t'war\t.xal\t'zone\t'aetoa\t'ahmed\t'aja\t'alba\t'apai\t'argenteuil\t'asi\t-at\t.at\t'avanzo\t-er\t-hereunder\t.html\t'lisa\t'mairthini\t'neals\t'orefice\t'ou\t'roses\t'shanter\t.she\t-so\t's-related\t-there\t-tree\t-what\t'zhana\t'ada\tÃ£Â‰lectricitÃ£Â©\t'amatriciana\t'bleness\t-dyev\tÃªÂ¼ÃªÂ¼this\t-enabled\t.how\t'id\t'ippolito\t'leh\t'oisans\t'quan\t's-eye-view\t't-she\t'wester\t'agde\t'Ã£Â‰tape\t'espagnat\t'etudes\t-he\t'neills\t'ry\t's-eyes\t's-worth\t'sync\t'young\t'abruzzo\t'alon\t,and\t'ar\t'arpizio\t'donohoe\tÃªÂ¼ÃªÂ¼i\t'eh\t.gov\t'im\t-ism\t'lud\t.my\t.now\t'on\t'opera\t'ordre\t-skee\t's-nest\t'steen\t'ti\t-to\t.to\t'uomo\t'ab\t'air\t'anana\t.as\t'doye\t'equity\t'esprit\t-ing\t-is\t.just\t'lugoff\t.no\t'oise\t'rith\t's-brand\t,,the\t.trxfldaxpu\t-who\t'afili\t-ah\t'ale\t'eda\t.gdaxi\t'herbe\t.me\t'nathan\t't-ask-don\t'urville\t'accuse\t'affairs\t'al\t'arche\t'a's\t'con\t'hurley\t'krepki\t-new\t'nor\t-nur\t'riordain\t'sdha\t'sullevan\t'uns\t'wolves\tÃ£Â©coles\t-all\t'ariv\tÃªÂ¼s\t'emilio\t.for\t-gurs\t'histoire\t'isha\t-led\t.not\t's-only\t.vix\t-wide\tÃ£Â‰milie\t'aniello\t'arienzo\tÃ£Â©tudes\t.cn\t'farrill\t'jon\t-lee\t'olio\t'qaa\t's-who\t-we\t'Ã£Â‰lÃ£Â©gance\t'alesandro\tÃ£Â–pik\tÃ£Â‰poque\t'autre\t'da\t-day\t.ftse\t'horgan\t'ib\t'image\t'nan\t-point\t'ran\t-rated\t's-style\t-this\t't-tell\tÃ£Â‰douard\t,,and\t'donnabhain\tÃªÂ¼i\t-listed\t'penny\t'une\t-acre\t'a-filo\t'alogo\t'at\tÃ£Â‰tudes\t'brien-trained\t.gspf\t'ia\t'n'bass\t-not\t'nut\t.or\t's-side\t-they\t-with\tÃ£Â‰milion\t-an\tÃ£Â©poque\t'athists\tÃ£Â‰tienne\t.djushb\tÃªÂ¼this\t'ecuyer\t'ile\t-oh\t'rivera\t's's\t'yquem\t'administration\t'amatuainu\t'asyir\t'baye\t'bryan\t'eau\t'egidio\t'haguenet\t'ie\t-ish\t-lah\t'rowe\t'shee\t.there\t'agostini\tÃ£Â‰rik\t'elia\t-foot\t'ism\t-nominated\t'sheoma\t'ami\t-as\t-or\t'amboise\t'antonio\t'as\t.asia\tÃ£Â‰tape\t'auberge\t-but\t'dor\t'eman\t'estrange\t'europe\t-nee\t's-\t.uk\t-you\t'zonzi\t'anna\t'artagnan\t'arvor\t-bathroom\t.djii\t'harnoncourt\t'ite-dominated\t'oala\t,,they\t'hÃ£Â´tel\t-lanterns\tÃ£ÂŽle\t'casey\t'hondt\t.in\t-lantern\t.rlx\t't-they\t-women\t'you\t'affaire\t'anima\t-if\t-off\t'ouverture\t'shia\t-zee\t'briain\t'kiah\t'oliveira\t'riley\t'say\t'alessio\t'avignon\tÃªÂ¼we\t'impero\t't-he\tÃ£Â¼ber\t'brickashaw\t'mison\t-month\t'alpe\tÃ£Â©minence\t'atau\t'may\t'ree\t'silva\t'ah\t'odham\t'sÃ£Âƒ\t.that\t'wren\t'andre\t'atelier\t'athist\t'bryant\t'carroll\t-length\t'origine\t'riordan\t-shaped\t.so\t-that\t.what\tÃ£Â‰dgar\t-branded\t'covan\t'elisir\t'etait\t'gog\t'hearn\t'ik\t.mac\tÃ£Â‡a\t'faolain\t.if\t.org\t-which\t-yuk\t'agata\t'alessandro\tÃ£Âvila\t'conner\t'ev\t'haiti\t'innocenzio\t'regan\t-related\t-uh\t.xxx\tÃ£Â‰ric\t'burg\t'olonne\t'oyly\t'ao\t.co.uk\t'elegance\t's-like\t'urbervilles\tÃªÂ¼dubai\tÃªÂ¼nÃªÂ¼\t'er-do-wells\t'guessan\t.he\tÃªÂ¼ÃªÂ¼we\t.mobi\t.they\t-ee\t'mahony\t.this\t'ancona\t'ipulotu\t'night\t'oh\t'orange\t'andrea\t'evelyn\t'naan\t'nora\t'oeuvre\t.pdf\t'urso\tÃ£Â§a\t'antibes\t'bama\t.axjo\t-era\t-inspired\t'offay\t'aosta\t'ers\t'ron\t's-land\t'acampo\t'jays\t'ambrosio\tÃ£Â“scar\t'elle\t-esque\t.tel\t-winning\t'boyle\t'este\t-high\t'ai\t'diaye\t'rent\tÃ£Â‰mile\t'engle\t'n'mix\tÃ£Â©lite\tÃªÂ¼ÃªÂ¼he\t'n'b\t'lakes\t's-roosevelt\t'aime\t'ali\t'ampezzo\t'occitane\t.eco\t.you\t.but\t'dwyer\t-plus\t'flaherty\t'nai\t'flynn\t'tis\t'avion\t-in\t.we\t.bkx\t'ed\t'onofrio\t'higgins\t-minute\t.ssec\t-themed\t'arte\t'espresso\t'gorman\t'melveny\t'aretz\t'il\t'fallon\t-long\t'o's\t'ad\tÃ£Âlvarez\t-it\t'brian\t'er-do-well\t'mara\t'asavalu\t'amore\t'farrell\tÃªÂ¼the\t'un\t'utri\tÃ£Â‰cole\t'argent\t-game\t.hsi\t'ing\t'mores\t'bannon\t'easter\tÃ£Â©lan\tÃ£Â©migrÃ£Â©s\t'alema\t'in\t'shaughnessy\t'ath\t'halloran\t'express\t.it\t'ufia\t't-miss\t's-length\t'know\t'Ã£Â©tat\t'uiha\t'ryan\t-inch\t'oro\t'ness\t-year-old\t'guemo\t'dour\t'isÃ£Â¨re\t-mile\t'automobile\t'doherty\t'is\tÃ£Â‰lysÃ£Â©e\t-and\t'homme\t'agostino\t'loan\t'amico\t'estaing\t'huez\t'donovan\t'von\t.dxy\t-type\t'enfant\t'quinn\tÃªÂ¼ÃªÂ¼the\t'etre\t'barry\t'orsay\t'kelly\t'twaun\tÃ£Â´l\t'honneur\t'art\t-owned\t'groats\t'alofa\t.and\t'er\t'alma\t'hagan\t'ivoire\t'oeil\t'oialo\tÃ£Â©migrÃ£Â©\t'em\t'escoto\t-based\t'kane\t'Ã£Âªtre\t'hern\t'alene\t-hour\t'amato\t'sean\t'tselem\t'loughlin\t'osservatore\t'ite-led\t'azur\t'arc\t-like\t'souza\t.net\t'blanche\t'oeuvres\t'angelo\t'day\t.the\t'isere\t-year\t.com\t'affaires\t'orÃ£Â©al\t'equipe\t'donoghue\t'ts\t'am\t'byrne\tÃ£Âlvaro\t'nt\t'amour\t'vi\tÃ£Ângel\t'hanlon\t'keeffe\t'dea\t'est\t'zogbia\t'en\t'dell\t'epargne\t'all\t.ixic\t's-eye\t'dowd\t-the\t'etat\t-style\t'meara\t'addario\t'ida\t'mon\t'grady\t'ites\t'callaghan\t.dji\t.spx\t'rourke\t'toole\t'nique\t'oreal\t'hair\t'italia\t'n'roll\t'djamena\t'arcy\t'an\t'neil\t'keefe\t'or\t'shea\t'antoni\t'gara\t'hare\t'hara\t'leary\t'driscoll\t'adua\t'sullivan\t'connell\t'clock\t'aquila\t'reilly\t'malley\t'donnell\t'ite\t'connor\t'neill\t'neal\t'brien\t'll\t've\t're\tÃ£Â©clairs\t'amelio\t'Ã£Â‰quipe\t'arques\t-a-year\t'ayin\t'briens\t-don\t'dou\tÃªÂ¼it\t.edu\t'escargot\t'etich\t.even\t'hÃ£Â´te\t-koh\t'neill-trained\t,the\t'ud\t.when\t'acosta\tÃ£Â‰dith\t'afari\t'afrique\t'ahau\t'aiguillon-sur-mer\tÃ£Â‰lysÃ£Â©es\t'ameh\t'americain\t'andratx\tÃ£Â©tÃ£Â©\t'berry\t-do\tÃªÂ¼em\tÃªÂ¼gulf\t-for\t.is\t'keese\t'lantern\t-level\t'looking\t-mee\t-neh-zhahd\t'not\t.nyc\t-one\t'rawe\t's-head\t'shon\t's-rights\t'ss\t's-wear\t,they\t-uh-vich\tÃ£Â‰ireann\t.all\t'athification\t'aveni\t'bami\tÃªÂ¼ÃªÂ¼it\tÃªÂ¼no\t'ecole\t'ermilio\t'errico\t'heure\t'horizon\t'hotel\t-isms\t'la\t'll-miss-it\t'ma\t'malia\t-no\t'orazio\t.print\t'rahilly\t'rel\t'unita\t.well\t-when\t.why\t'alsace\t'ambrosi\t'annunzio\t'antuono\t'artaix\t'au\t'avvenire\tÃ£Â–zil\t'boy\t'connors\t'donis\t'donohue\t'es\t.eu\t-former\t.fox\t'hui\t-including\t-kee\t'mahoney\t.mscief\t'n'bars\t'oglio\t'orangerie\t'saisons\t-seeking\t's-feet\t-us\t'war\t.xal\t'zone\t'aetoa\t'ahmed\t'aja\t'alba\t'apai\t'argenteuil\t'asi\t-at\t.at\t'avanzo\t-er\t-hereunder\t.html\t'lisa\t'mairthini\t'neals\t'orefice\t'ou\t'roses\t'shanter\t.she\t-so\t's-related\t-there\t-tree\t-what\t'zhana\t'ada\tÃ£Â‰lectricitÃ£Â©\t'amatriciana\t'bleness\t-dyev\tÃªÂ¼ÃªÂ¼this\t-enabled\t.how\t'id\t'ippolito\t'leh\t'oisans\t'quan\t's-eye-view\t't-she\t'wester\t'agde\t'Ã£Â‰tape\t'espagnat\t'etudes\t-he\t'neills\t'ry\t's-eyes\t's-worth\t'sync\t'young\t'abruzzo\t'alon\t,and\t'ar\t'arpizio\t'donohoe\tÃªÂ¼ÃªÂ¼i\t'eh\t.gov\t'im\t-ism\t'lud\t.my\t.now\t'on\t'opera\t'ordre\t-skee\t's-nest\t'steen\t'ti\t-to\t.to\t'uomo\t'ab\t'air\t'anana\t.as\t'doye\t'equity\t'esprit\t-ing\t-is\t.just\t'lugoff\t.no\t'oise\t'rith\t's-brand\t,,the\t.trxfldaxpu\t-who\t'afili\t-ah\t'ale\t'eda\t.gdaxi\t'herbe\t.me\t'nathan\t't-ask-don\t'urville\t'accuse\t'affairs\t'al\t'arche\t'a's\t'con\t'hurley\t'krepki\t-new\t'nor\t-nur\t'riordain\t'sdha\t'sullevan\t'uns\t'wolves\tÃ£Â©coles\t-all\t'ariv\tÃªÂ¼s\t'emilio\t.for\t-gurs\t'histoire\t'isha\t-led\t.not\t's-only\t.vix\t-wide\tÃ£Â‰milie\t'aniello\t'arienzo\tÃ£Â©tudes\t.cn\t'farrill\t'jon\t-lee\t'olio\t'qaa\t's-who\t-we\t'Ã£Â‰lÃ£Â©gance\t'alesandro\tÃ£Â–pik\tÃ£Â‰poque\t'autre\t'da\t-day\t.ftse\t'horgan\t'ib\t'image\t'nan\t-point\t'ran\t-rated\t's-style\t-this\t't-tell\tÃ£Â‰douard\t,,and\t'donnabhain\tÃªÂ¼i\t-listed\t'penny\t'une\t-acre\t'a-filo\t'alogo\t'at\tÃ£Â‰tudes\t'brien-trained\t.gspf\t'ia\t'n'bass\t-not\t'nut\t.or\t's-side\t-they\t-with\tÃ£Â‰milion\t-an\tÃ£Â©poque\t'athists\tÃ£Â‰tienne\t.djushb\tÃªÂ¼this\t'ecuyer\t'ile\t-oh\t'rivera\t's's\t'yquem\t'administration\t'amatuainu\t'asyir\t'baye\t'bryan\t'eau\t'egidio\t'haguenet\t'ie\t-ish\t-lah\t'rowe\t'shee\t.there\t'agostini\tÃ£Â‰rik\t'elia\t-foot\t'ism\t-nominated\t'sheoma\t'ami\t-as\t-or\t'amboise\t'antonio\t'as\t.asia\tÃ£Â‰tape\t'auberge\t-but\t'dor\t'eman\t'estrange\t'europe\t-nee\t's-\t.uk\t-you\t'zonzi\t'anna\t'artagnan\t'arvor\t-bathroom\t.djii\t'harnoncourt\t'ite-dominated\t'oala\t,,they\t'hÃ£Â´tel\t-lanterns\tÃ£ÂŽle\t'casey\t'hondt\t.in\t-lantern\t.rlx\t't-they\t-women\t'you\t'affaire\t'anima\t-if\t-off\t'ouverture\t'shia\t-zee\t'briain\t'kiah\t'oliveira\t'riley\t'say\t'alessio\t'avignon\tÃªÂ¼we\t'impero\t't-he\tÃ£Â¼ber\t'brickashaw\t'mison\t-month\t'alpe\tÃ£Â©minence\t'atau\t'may\t'ree\t'silva\t'ah\t'odham\t'sÃ£Âƒ\t.that\t'wren\t'andre\t'atelier\t'athist\t'bryant\t'carroll\t-length\t'origine\t'riordan\t-shaped\t.so\t-that\t.what\tÃ£Â‰dgar\t-branded\t'covan\t'elisir\t'etait\t'gog\t'hearn\t'ik\t.mac\tÃ£Â‡a\t'faolain\t.if\t.org\t-which\t-yuk\t'agata\t'alessandro\tÃ£Âvila\t'conner\t'ev\t'haiti\t'innocenzio\t'regan\t-related\t-uh\t.xxx\tÃ£Â‰ric\t'burg\t'olonne\t'oyly\t'ao\t.co.uk\t'elegance\t's-like\t'urbervilles\tÃªÂ¼dubai\tÃªÂ¼nÃªÂ¼\t'er-do-wells\t'guessan\t.he\tÃªÂ¼ÃªÂ¼we\t.mobi\t.they\t-ee\t'mahony\t.this\t'ancona\t'ipulotu\t'night\t'oh\t'orange\t'andrea\t'evelyn\t'naan\t'nora\t'oeuvre\t.pdf\t'urso\tÃ£Â§a\t'antibes\t'bama\t.axjo\t-era\t-inspired\t'offay\t'aosta\t'ers\t'ron\t's-land\t'acampo\t'jays\t'ambrosio\tÃ£Â“scar\t'elle\t-esque\t.tel\t-winning\t'boyle\t'este\t-high\t'ai\t'diaye\t'rent\tÃ£Â‰mile\t'engle\t'n'mix\tÃ£Â©lite\tÃªÂ¼ÃªÂ¼he\t'n'b\t'lakes\t's-roosevelt\t'aime\t'ali\t'ampezzo\t'occitane\t.eco\t.you\t.but\t'dwyer\t-plus\t'flaherty\t'nai\t'flynn\t'tis\t'avion\t-in\t.we\t.bkx\t'ed\t'onofrio\t'higgins\t-minute\t.ssec\t-themed\t'arte\t'espresso\t'gorman\t'melveny\t'aretz\t'il\t'fallon\t-long\t'o's\t'ad\tÃ£Âlvarez\t-it\t'brian\t'er-do-well\t'mara\t'asavalu\t'amore\t'farrell\tÃªÂ¼the\t'un\t'utri\tÃ£Â‰cole\t'argent\t-game\t.hsi\t'ing\t'mores\t'bannon\t'easter\tÃ£Â©lan\tÃ£Â©migrÃ£Â©s\t'alema\t'in\t'shaughnessy\t'ath\t'halloran\t'express\t.it\t'ufia\t't-miss\t's-length\t'know\t'Ã£Â©tat\t'uiha\t'ryan\t-inch\t'oro\t'ness\t-year-old\t'guemo\t'dour\t'isÃ£Â¨re\t-mile\t'automobile\t'doherty\t'is\tÃ£Â‰lysÃ£Â©e\t-and\t'homme\t'agostino\t'loan\t'amico\t'estaing\t'huez\t'donovan\t'von\t.dxy\t-type\t'enfant\t'quinn\tÃªÂ¼ÃªÂ¼the\t'etre\t'barry\t'orsay\t'kelly\t'twaun\tÃ£Â´l\t'honneur\t'art\t-owned\t'groats\t'alofa\t.and\t'er\t'alma\t'hagan\t'ivoire\t'oeil\t'oialo\tÃ£Â©migrÃ£Â©\t'em\t'escoto\t-based\t'kane\t'Ã£Âªtre\t'hern\t'alene\t-hour\t'amato\t'sean\t'tselem\t'loughlin\t'osservatore\t'ite-led\t'azur\t'arc\t-like\t'souza\t.net\t'blanche\t'oeuvres\t'angelo\t'day\t.the\t'isere\t-year\t.com\t'affaires\t'orÃ£Â©al\t'equipe\t'donoghue\t'ts\t'am\t'byrne\tÃ£Âlvaro\t'nt\t'amour\t'vi\tÃ£Ângel\t'hanlon\t'keeffe\t'dea\t'est\t'zogbia\t'en\t'dell\t'epargne\t'all\t.ixic\t's-eye\t'dowd\t-the\t'etat\t-style\t'meara\t'addario\t'ida\t'mon\t'grady\t'ites\t'callaghan\t.dji\t.spx\t'rourke\t'toole\t'nique\t'oreal\t'hair\t'italia\t'n'roll\t'djamena\t'arcy\t'an\t'neil\t'keefe\t'or\t'shea\t'antoni\t'gara\t'hare\t'hara\t'leary\t'driscoll\t'adua\t'sullivan\t'connell\t'clock\t'aquila\t'reilly\t'malley\t'donnell\t'ite\t'connor\t'neill\t'neal\t'brien\t'll\t've\t're\n",
      "********************************* freze\n",
      "Corrections using jaro_winkler distance :\n",
      "freze\tfrieze\tfree\tfrenzel\n",
      "Corrections using Soundex : \n",
      "freze\tÃ£Â©clairs\t'amelio\t'Ã£Â‰quipe\t'arques\t-a-year\t'ayin\t'briens\t-don\t'dou\tÃªÂ¼it\t.edu\t'escargot\t'etich\t.even\t'hÃ£Â´te\t-koh\t'neill-trained\t,the\t'ud\t.when\t'acosta\tÃ£Â‰dith\t'afari\t'afrique\t'ahau\t'aiguillon-sur-mer\tÃ£Â‰lysÃ£Â©es\t'ameh\t'americain\t'andratx\tÃ£Â©tÃ£Â©\t'berry\t-do\tÃªÂ¼em\tÃªÂ¼gulf\t-for\t.is\t'keese\t'lantern\t-level\t'looking\t-mee\t-neh-zhahd\t'not\t.nyc\t-one\t'rawe\t's-head\t'shon\t's-rights\t'ss\t's-wear\t,they\t-uh-vich\tÃ£Â‰ireann\t.all\t'athification\t'aveni\t'bami\tÃªÂ¼ÃªÂ¼it\tÃªÂ¼no\t'ecole\t'ermilio\t'errico\t'heure\t'horizon\t'hotel\t-isms\t'la\t'll-miss-it\t'ma\t'malia\t-no\t'orazio\t.print\t'rahilly\t'rel\t'unita\t.well\t-when\t.why\t'alsace\t'ambrosi\t'annunzio\t'antuono\t'artaix\t'au\t'avvenire\tÃ£Â–zil\t'boy\t'connors\t'donis\t'donohue\t'es\t.eu\t-former\t.fox\t'hui\t-including\t-kee\t'mahoney\t.mscief\t'n'bars\t'oglio\t'orangerie\t'saisons\t-seeking\t's-feet\t-us\t'war\t.xal\t'zone\t'aetoa\t'ahmed\t'aja\t'alba\t'apai\t'argenteuil\t'asi\t-at\t.at\t'avanzo\t-er\t-hereunder\t.html\t'lisa\t'mairthini\t'neals\t'orefice\t'ou\t'roses\t'shanter\t.she\t-so\t's-related\t-there\t-tree\t-what\t'zhana\t'ada\tÃ£Â‰lectricitÃ£Â©\t'amatriciana\t'bleness\t-dyev\tÃªÂ¼ÃªÂ¼this\t-enabled\t.how\t'id\t'ippolito\t'leh\t'oisans\t'quan\t's-eye-view\t't-she\t'wester\t'agde\t'Ã£Â‰tape\t'espagnat\t'etudes\t-he\t'neills\t'ry\t's-eyes\t's-worth\t'sync\t'young\t'abruzzo\t'alon\t,and\t'ar\t'arpizio\t'donohoe\tÃªÂ¼ÃªÂ¼i\t'eh\t.gov\t'im\t-ism\t'lud\t.my\t.now\t'on\t'opera\t'ordre\t-skee\t's-nest\t'steen\t'ti\t-to\t.to\t'uomo\t'ab\t'air\t'anana\t.as\t'doye\t'equity\t'esprit\t-ing\t-is\t.just\t'lugoff\t.no\t'oise\t'rith\t's-brand\t,,the\t.trxfldaxpu\t-who\t'afili\t-ah\t'ale\t'eda\t.gdaxi\t'herbe\t.me\t'nathan\t't-ask-don\t'urville\t'accuse\t'affairs\t'al\t'arche\t'a's\t'con\t'hurley\t'krepki\t-new\t'nor\t-nur\t'riordain\t'sdha\t'sullevan\t'uns\t'wolves\tÃ£Â©coles\t-all\t'ariv\tÃªÂ¼s\t'emilio\t.for\t-gurs\t'histoire\t'isha\t-led\t.not\t's-only\t.vix\t-wide\tÃ£Â‰milie\t'aniello\t'arienzo\tÃ£Â©tudes\t.cn\t'farrill\t'jon\t-lee\t'olio\t'qaa\t's-who\t-we\t'Ã£Â‰lÃ£Â©gance\t'alesandro\tÃ£Â–pik\tÃ£Â‰poque\t'autre\t'da\t-day\t.ftse\t'horgan\t'ib\t'image\t'nan\t-point\t'ran\t-rated\t's-style\t-this\t't-tell\tÃ£Â‰douard\t,,and\t'donnabhain\tÃªÂ¼i\t-listed\t'penny\t'une\t-acre\t'a-filo\t'alogo\t'at\tÃ£Â‰tudes\t'brien-trained\t.gspf\t'ia\t'n'bass\t-not\t'nut\t.or\t's-side\t-they\t-with\tÃ£Â‰milion\t-an\tÃ£Â©poque\t'athists\tÃ£Â‰tienne\t.djushb\tÃªÂ¼this\t'ecuyer\t'ile\t-oh\t'rivera\t's's\t'yquem\t'administration\t'amatuainu\t'asyir\t'baye\t'bryan\t'eau\t'egidio\t'haguenet\t'ie\t-ish\t-lah\t'rowe\t'shee\t.there\t'agostini\tÃ£Â‰rik\t'elia\t-foot\t'ism\t-nominated\t'sheoma\t'ami\t-as\t-or\t'amboise\t'antonio\t'as\t.asia\tÃ£Â‰tape\t'auberge\t-but\t'dor\t'eman\t'estrange\t'europe\t-nee\t's-\t.uk\t-you\t'zonzi\t'anna\t'artagnan\t'arvor\t-bathroom\t.djii\t'harnoncourt\t'ite-dominated\t'oala\t,,they\t'hÃ£Â´tel\t-lanterns\tÃ£ÂŽle\t'casey\t'hondt\t.in\t-lantern\t.rlx\t't-they\t-women\t'you\t'affaire\t'anima\t-if\t-off\t'ouverture\t'shia\t-zee\t'briain\t'kiah\t'oliveira\t'riley\t'say\t'alessio\t'avignon\tÃªÂ¼we\t'impero\t't-he\tÃ£Â¼ber\t'brickashaw\t'mison\t-month\t'alpe\tÃ£Â©minence\t'atau\t'may\t'ree\t'silva\t'ah\t'odham\t'sÃ£Âƒ\t.that\t'wren\t'andre\t'atelier\t'athist\t'bryant\t'carroll\t-length\t'origine\t'riordan\t-shaped\t.so\t-that\t.what\tÃ£Â‰dgar\t-branded\t'covan\t'elisir\t'etait\t'gog\t'hearn\t'ik\t.mac\tÃ£Â‡a\t'faolain\t.if\t.org\t-which\t-yuk\t'agata\t'alessandro\tÃ£Âvila\t'conner\t'ev\t'haiti\t'innocenzio\t'regan\t-related\t-uh\t.xxx\tÃ£Â‰ric\t'burg\t'olonne\t'oyly\t'ao\t.co.uk\t'elegance\t's-like\t'urbervilles\tÃªÂ¼dubai\tÃªÂ¼nÃªÂ¼\t'er-do-wells\t'guessan\t.he\tÃªÂ¼ÃªÂ¼we\t.mobi\t.they\t-ee\t'mahony\t.this\t'ancona\t'ipulotu\t'night\t'oh\t'orange\t'andrea\t'evelyn\t'naan\t'nora\t'oeuvre\t.pdf\t'urso\tÃ£Â§a\t'antibes\t'bama\t.axjo\t-era\t-inspired\t'offay\t'aosta\t'ers\t'ron\t's-land\t'acampo\t'jays\t'ambrosio\tÃ£Â“scar\t'elle\t-esque\t.tel\t-winning\t'boyle\t'este\t-high\t'ai\t'diaye\t'rent\tÃ£Â‰mile\t'engle\t'n'mix\tÃ£Â©lite\tÃªÂ¼ÃªÂ¼he\t'n'b\t'lakes\t's-roosevelt\t'aime\t'ali\t'ampezzo\t'occitane\t.eco\t.you\t.but\t'dwyer\t-plus\t'flaherty\t'nai\t'flynn\t'tis\t'avion\t-in\t.we\t.bkx\t'ed\t'onofrio\t'higgins\t-minute\t.ssec\t-themed\t'arte\t'espresso\t'gorman\t'melveny\t'aretz\t'il\t'fallon\t-long\t'o's\t'ad\tÃ£Âlvarez\t-it\t'brian\t'er-do-well\t'mara\t'asavalu\t'amore\t'farrell\tÃªÂ¼the\t'un\t'utri\tÃ£Â‰cole\t'argent\t-game\t.hsi\t'ing\t'mores\t'bannon\t'easter\tÃ£Â©lan\tÃ£Â©migrÃ£Â©s\t'alema\t'in\t'shaughnessy\t'ath\t'halloran\t'express\t.it\t'ufia\t't-miss\t's-length\t'know\t'Ã£Â©tat\t'uiha\t'ryan\t-inch\t'oro\t'ness\t-year-old\t'guemo\t'dour\t'isÃ£Â¨re\t-mile\t'automobile\t'doherty\t'is\tÃ£Â‰lysÃ£Â©e\t-and\t'homme\t'agostino\t'loan\t'amico\t'estaing\t'huez\t'donovan\t'von\t.dxy\t-type\t'enfant\t'quinn\tÃªÂ¼ÃªÂ¼the\t'etre\t'barry\t'orsay\t'kelly\t'twaun\tÃ£Â´l\t'honneur\t'art\t-owned\t'groats\t'alofa\t.and\t'er\t'alma\t'hagan\t'ivoire\t'oeil\t'oialo\tÃ£Â©migrÃ£Â©\t'em\t'escoto\t-based\t'kane\t'Ã£Âªtre\t'hern\t'alene\t-hour\t'amato\t'sean\t'tselem\t'loughlin\t'osservatore\t'ite-led\t'azur\t'arc\t-like\t'souza\t.net\t'blanche\t'oeuvres\t'angelo\t'day\t.the\t'isere\t-year\t.com\t'affaires\t'orÃ£Â©al\t'equipe\t'donoghue\t'ts\t'am\t'byrne\tÃ£Âlvaro\t'nt\t'amour\t'vi\tÃ£Ângel\t'hanlon\t'keeffe\t'dea\t'est\t'zogbia\t'en\t'dell\t'epargne\t'all\t.ixic\t's-eye\t'dowd\t-the\t'etat\t-style\t'meara\t'addario\t'ida\t'mon\t'grady\t'ites\t'callaghan\t.dji\t.spx\t'rourke\t'toole\t'nique\t'oreal\t'hair\t'italia\t'n'roll\t'djamena\t'arcy\t'an\t'neil\t'keefe\t'or\t'shea\t'antoni\t'gara\t'hare\t'hara\t'leary\t'driscoll\t'adua\t'sullivan\t'connell\t'clock\t'aquila\t'reilly\t'malley\t'donnell\t'ite\t'connor\t'neill\t'neal\t'brien\t'll\t've\t're\tÃ£Â©clairs\t'amelio\t'Ã£Â‰quipe\t'arques\t-a-year\t'ayin\t'briens\t-don\t'dou\tÃªÂ¼it\t.edu\t'escargot\t'etich\t.even\t'hÃ£Â´te\t-koh\t'neill-trained\t,the\t'ud\t.when\t'acosta\tÃ£Â‰dith\t'afari\t'afrique\t'ahau\t'aiguillon-sur-mer\tÃ£Â‰lysÃ£Â©es\t'ameh\t'americain\t'andratx\tÃ£Â©tÃ£Â©\t'berry\t-do\tÃªÂ¼em\tÃªÂ¼gulf\t-for\t.is\t'keese\t'lantern\t-level\t'looking\t-mee\t-neh-zhahd\t'not\t.nyc\t-one\t'rawe\t's-head\t'shon\t's-rights\t'ss\t's-wear\t,they\t-uh-vich\tÃ£Â‰ireann\t.all\t'athification\t'aveni\t'bami\tÃªÂ¼ÃªÂ¼it\tÃªÂ¼no\t'ecole\t'ermilio\t'errico\t'heure\t'horizon\t'hotel\t-isms\t'la\t'll-miss-it\t'ma\t'malia\t-no\t'orazio\t.print\t'rahilly\t'rel\t'unita\t.well\t-when\t.why\t'alsace\t'ambrosi\t'annunzio\t'antuono\t'artaix\t'au\t'avvenire\tÃ£Â–zil\t'boy\t'connors\t'donis\t'donohue\t'es\t.eu\t-former\t.fox\t'hui\t-including\t-kee\t'mahoney\t.mscief\t'n'bars\t'oglio\t'orangerie\t'saisons\t-seeking\t's-feet\t-us\t'war\t.xal\t'zone\t'aetoa\t'ahmed\t'aja\t'alba\t'apai\t'argenteuil\t'asi\t-at\t.at\t'avanzo\t-er\t-hereunder\t.html\t'lisa\t'mairthini\t'neals\t'orefice\t'ou\t'roses\t'shanter\t.she\t-so\t's-related\t-there\t-tree\t-what\t'zhana\t'ada\tÃ£Â‰lectricitÃ£Â©\t'amatriciana\t'bleness\t-dyev\tÃªÂ¼ÃªÂ¼this\t-enabled\t.how\t'id\t'ippolito\t'leh\t'oisans\t'quan\t's-eye-view\t't-she\t'wester\t'agde\t'Ã£Â‰tape\t'espagnat\t'etudes\t-he\t'neills\t'ry\t's-eyes\t's-worth\t'sync\t'young\t'abruzzo\t'alon\t,and\t'ar\t'arpizio\t'donohoe\tÃªÂ¼ÃªÂ¼i\t'eh\t.gov\t'im\t-ism\t'lud\t.my\t.now\t'on\t'opera\t'ordre\t-skee\t's-nest\t'steen\t'ti\t-to\t.to\t'uomo\t'ab\t'air\t'anana\t.as\t'doye\t'equity\t'esprit\t-ing\t-is\t.just\t'lugoff\t.no\t'oise\t'rith\t's-brand\t,,the\t.trxfldaxpu\t-who\t'afili\t-ah\t'ale\t'eda\t.gdaxi\t'herbe\t.me\t'nathan\t't-ask-don\t'urville\t'accuse\t'affairs\t'al\t'arche\t'a's\t'con\t'hurley\t'krepki\t-new\t'nor\t-nur\t'riordain\t'sdha\t'sullevan\t'uns\t'wolves\tÃ£Â©coles\t-all\t'ariv\tÃªÂ¼s\t'emilio\t.for\t-gurs\t'histoire\t'isha\t-led\t.not\t's-only\t.vix\t-wide\tÃ£Â‰milie\t'aniello\t'arienzo\tÃ£Â©tudes\t.cn\t'farrill\t'jon\t-lee\t'olio\t'qaa\t's-who\t-we\t'Ã£Â‰lÃ£Â©gance\t'alesandro\tÃ£Â–pik\tÃ£Â‰poque\t'autre\t'da\t-day\t.ftse\t'horgan\t'ib\t'image\t'nan\t-point\t'ran\t-rated\t's-style\t-this\t't-tell\tÃ£Â‰douard\t,,and\t'donnabhain\tÃªÂ¼i\t-listed\t'penny\t'une\t-acre\t'a-filo\t'alogo\t'at\tÃ£Â‰tudes\t'brien-trained\t.gspf\t'ia\t'n'bass\t-not\t'nut\t.or\t's-side\t-they\t-with\tÃ£Â‰milion\t-an\tÃ£Â©poque\t'athists\tÃ£Â‰tienne\t.djushb\tÃªÂ¼this\t'ecuyer\t'ile\t-oh\t'rivera\t's's\t'yquem\t'administration\t'amatuainu\t'asyir\t'baye\t'bryan\t'eau\t'egidio\t'haguenet\t'ie\t-ish\t-lah\t'rowe\t'shee\t.there\t'agostini\tÃ£Â‰rik\t'elia\t-foot\t'ism\t-nominated\t'sheoma\t'ami\t-as\t-or\t'amboise\t'antonio\t'as\t.asia\tÃ£Â‰tape\t'auberge\t-but\t'dor\t'eman\t'estrange\t'europe\t-nee\t's-\t.uk\t-you\t'zonzi\t'anna\t'artagnan\t'arvor\t-bathroom\t.djii\t'harnoncourt\t'ite-dominated\t'oala\t,,they\t'hÃ£Â´tel\t-lanterns\tÃ£ÂŽle\t'casey\t'hondt\t.in\t-lantern\t.rlx\t't-they\t-women\t'you\t'affaire\t'anima\t-if\t-off\t'ouverture\t'shia\t-zee\t'briain\t'kiah\t'oliveira\t'riley\t'say\t'alessio\t'avignon\tÃªÂ¼we\t'impero\t't-he\tÃ£Â¼ber\t'brickashaw\t'mison\t-month\t'alpe\tÃ£Â©minence\t'atau\t'may\t'ree\t'silva\t'ah\t'odham\t'sÃ£Âƒ\t.that\t'wren\t'andre\t'atelier\t'athist\t'bryant\t'carroll\t-length\t'origine\t'riordan\t-shaped\t.so\t-that\t.what\tÃ£Â‰dgar\t-branded\t'covan\t'elisir\t'etait\t'gog\t'hearn\t'ik\t.mac\tÃ£Â‡a\t'faolain\t.if\t.org\t-which\t-yuk\t'agata\t'alessandro\tÃ£Âvila\t'conner\t'ev\t'haiti\t'innocenzio\t'regan\t-related\t-uh\t.xxx\tÃ£Â‰ric\t'burg\t'olonne\t'oyly\t'ao\t.co.uk\t'elegance\t's-like\t'urbervilles\tÃªÂ¼dubai\tÃªÂ¼nÃªÂ¼\t'er-do-wells\t'guessan\t.he\tÃªÂ¼ÃªÂ¼we\t.mobi\t.they\t-ee\t'mahony\t.this\t'ancona\t'ipulotu\t'night\t'oh\t'orange\t'andrea\t'evelyn\t'naan\t'nora\t'oeuvre\t.pdf\t'urso\tÃ£Â§a\t'antibes\t'bama\t.axjo\t-era\t-inspired\t'offay\t'aosta\t'ers\t'ron\t's-land\t'acampo\t'jays\t'ambrosio\tÃ£Â“scar\t'elle\t-esque\t.tel\t-winning\t'boyle\t'este\t-high\t'ai\t'diaye\t'rent\tÃ£Â‰mile\t'engle\t'n'mix\tÃ£Â©lite\tÃªÂ¼ÃªÂ¼he\t'n'b\t'lakes\t's-roosevelt\t'aime\t'ali\t'ampezzo\t'occitane\t.eco\t.you\t.but\t'dwyer\t-plus\t'flaherty\t'nai\t'flynn\t'tis\t'avion\t-in\t.we\t.bkx\t'ed\t'onofrio\t'higgins\t-minute\t.ssec\t-themed\t'arte\t'espresso\t'gorman\t'melveny\t'aretz\t'il\t'fallon\t-long\t'o's\t'ad\tÃ£Âlvarez\t-it\t'brian\t'er-do-well\t'mara\t'asavalu\t'amore\t'farrell\tÃªÂ¼the\t'un\t'utri\tÃ£Â‰cole\t'argent\t-game\t.hsi\t'ing\t'mores\t'bannon\t'easter\tÃ£Â©lan\tÃ£Â©migrÃ£Â©s\t'alema\t'in\t'shaughnessy\t'ath\t'halloran\t'express\t.it\t'ufia\t't-miss\t's-length\t'know\t'Ã£Â©tat\t'uiha\t'ryan\t-inch\t'oro\t'ness\t-year-old\t'guemo\t'dour\t'isÃ£Â¨re\t-mile\t'automobile\t'doherty\t'is\tÃ£Â‰lysÃ£Â©e\t-and\t'homme\t'agostino\t'loan\t'amico\t'estaing\t'huez\t'donovan\t'von\t.dxy\t-type\t'enfant\t'quinn\tÃªÂ¼ÃªÂ¼the\t'etre\t'barry\t'orsay\t'kelly\t'twaun\tÃ£Â´l\t'honneur\t'art\t-owned\t'groats\t'alofa\t.and\t'er\t'alma\t'hagan\t'ivoire\t'oeil\t'oialo\tÃ£Â©migrÃ£Â©\t'em\t'escoto\t-based\t'kane\t'Ã£Âªtre\t'hern\t'alene\t-hour\t'amato\t'sean\t'tselem\t'loughlin\t'osservatore\t'ite-led\t'azur\t'arc\t-like\t'souza\t.net\t'blanche\t'oeuvres\t'angelo\t'day\t.the\t'isere\t-year\t.com\t'affaires\t'orÃ£Â©al\t'equipe\t'donoghue\t'ts\t'am\t'byrne\tÃ£Âlvaro\t'nt\t'amour\t'vi\tÃ£Ângel\t'hanlon\t'keeffe\t'dea\t'est\t'zogbia\t'en\t'dell\t'epargne\t'all\t.ixic\t's-eye\t'dowd\t-the\t'etat\t-style\t'meara\t'addario\t'ida\t'mon\t'grady\t'ites\t'callaghan\t.dji\t.spx\t'rourke\t'toole\t'nique\t'oreal\t'hair\t'italia\t'n'roll\t'djamena\t'arcy\t'an\t'neil\t'keefe\t'or\t'shea\t'antoni\t'gara\t'hare\t'hara\t'leary\t'driscoll\t'adua\t'sullivan\t'connell\t'clock\t'aquila\t'reilly\t'malley\t'donnell\t'ite\t'connor\t'neill\t'neal\t'brien\t'll\t've\t're\tÃ£Â©clairs\t'amelio\t'Ã£Â‰quipe\t'arques\t-a-year\t'ayin\t'briens\t-don\t'dou\tÃªÂ¼it\t.edu\t'escargot\t'etich\t.even\t'hÃ£Â´te\t-koh\t'neill-trained\t,the\t'ud\t.when\t'acosta\tÃ£Â‰dith\t'afari\t'afrique\t'ahau\t'aiguillon-sur-mer\tÃ£Â‰lysÃ£Â©es\t'ameh\t'americain\t'andratx\tÃ£Â©tÃ£Â©\t'berry\t-do\tÃªÂ¼em\tÃªÂ¼gulf\t-for\t.is\t'keese\t'lantern\t-level\t'looking\t-mee\t-neh-zhahd\t'not\t.nyc\t-one\t'rawe\t's-head\t'shon\t's-rights\t'ss\t's-wear\t,they\t-uh-vich\tÃ£Â‰ireann\t.all\t'athification\t'aveni\t'bami\tÃªÂ¼ÃªÂ¼it\tÃªÂ¼no\t'ecole\t'ermilio\t'errico\t'heure\t'horizon\t'hotel\t-isms\t'la\t'll-miss-it\t'ma\t'malia\t-no\t'orazio\t.print\t'rahilly\t'rel\t'unita\t.well\t-when\t.why\t'alsace\t'ambrosi\t'annunzio\t'antuono\t'artaix\t'au\t'avvenire\tÃ£Â–zil\t'boy\t'connors\t'donis\t'donohue\t'es\t.eu\t-former\t.fox\t'hui\t-including\t-kee\t'mahoney\t.mscief\t'n'bars\t'oglio\t'orangerie\t'saisons\t-seeking\t's-feet\t-us\t'war\t.xal\t'zone\t'aetoa\t'ahmed\t'aja\t'alba\t'apai\t'argenteuil\t'asi\t-at\t.at\t'avanzo\t-er\t-hereunder\t.html\t'lisa\t'mairthini\t'neals\t'orefice\t'ou\t'roses\t'shanter\t.she\t-so\t's-related\t-there\t-tree\t-what\t'zhana\t'ada\tÃ£Â‰lectricitÃ£Â©\t'amatriciana\t'bleness\t-dyev\tÃªÂ¼ÃªÂ¼this\t-enabled\t.how\t'id\t'ippolito\t'leh\t'oisans\t'quan\t's-eye-view\t't-she\t'wester\t'agde\t'Ã£Â‰tape\t'espagnat\t'etudes\t-he\t'neills\t'ry\t's-eyes\t's-worth\t'sync\t'young\t'abruzzo\t'alon\t,and\t'ar\t'arpizio\t'donohoe\tÃªÂ¼ÃªÂ¼i\t'eh\t.gov\t'im\t-ism\t'lud\t.my\t.now\t'on\t'opera\t'ordre\t-skee\t's-nest\t'steen\t'ti\t-to\t.to\t'uomo\t'ab\t'air\t'anana\t.as\t'doye\t'equity\t'esprit\t-ing\t-is\t.just\t'lugoff\t.no\t'oise\t'rith\t's-brand\t,,the\t.trxfldaxpu\t-who\t'afili\t-ah\t'ale\t'eda\t.gdaxi\t'herbe\t.me\t'nathan\t't-ask-don\t'urville\t'accuse\t'affairs\t'al\t'arche\t'a's\t'con\t'hurley\t'krepki\t-new\t'nor\t-nur\t'riordain\t'sdha\t'sullevan\t'uns\t'wolves\tÃ£Â©coles\t-all\t'ariv\tÃªÂ¼s\t'emilio\t.for\t-gurs\t'histoire\t'isha\t-led\t.not\t's-only\t.vix\t-wide\tÃ£Â‰milie\t'aniello\t'arienzo\tÃ£Â©tudes\t.cn\t'farrill\t'jon\t-lee\t'olio\t'qaa\t's-who\t-we\t'Ã£Â‰lÃ£Â©gance\t'alesandro\tÃ£Â–pik\tÃ£Â‰poque\t'autre\t'da\t-day\t.ftse\t'horgan\t'ib\t'image\t'nan\t-point\t'ran\t-rated\t's-style\t-this\t't-tell\tÃ£Â‰douard\t,,and\t'donnabhain\tÃªÂ¼i\t-listed\t'penny\t'une\t-acre\t'a-filo\t'alogo\t'at\tÃ£Â‰tudes\t'brien-trained\t.gspf\t'ia\t'n'bass\t-not\t'nut\t.or\t's-side\t-they\t-with\tÃ£Â‰milion\t-an\tÃ£Â©poque\t'athists\tÃ£Â‰tienne\t.djushb\tÃªÂ¼this\t'ecuyer\t'ile\t-oh\t'rivera\t's's\t'yquem\t'administration\t'amatuainu\t'asyir\t'baye\t'bryan\t'eau\t'egidio\t'haguenet\t'ie\t-ish\t-lah\t'rowe\t'shee\t.there\t'agostini\tÃ£Â‰rik\t'elia\t-foot\t'ism\t-nominated\t'sheoma\t'ami\t-as\t-or\t'amboise\t'antonio\t'as\t.asia\tÃ£Â‰tape\t'auberge\t-but\t'dor\t'eman\t'estrange\t'europe\t-nee\t's-\t.uk\t-you\t'zonzi\t'anna\t'artagnan\t'arvor\t-bathroom\t.djii\t'harnoncourt\t'ite-dominated\t'oala\t,,they\t'hÃ£Â´tel\t-lanterns\tÃ£ÂŽle\t'casey\t'hondt\t.in\t-lantern\t.rlx\t't-they\t-women\t'you\t'affaire\t'anima\t-if\t-off\t'ouverture\t'shia\t-zee\t'briain\t'kiah\t'oliveira\t'riley\t'say\t'alessio\t'avignon\tÃªÂ¼we\t'impero\t't-he\tÃ£Â¼ber\t'brickashaw\t'mison\t-month\t'alpe\tÃ£Â©minence\t'atau\t'may\t'ree\t'silva\t'ah\t'odham\t'sÃ£Âƒ\t.that\t'wren\t'andre\t'atelier\t'athist\t'bryant\t'carroll\t-length\t'origine\t'riordan\t-shaped\t.so\t-that\t.what\tÃ£Â‰dgar\t-branded\t'covan\t'elisir\t'etait\t'gog\t'hearn\t'ik\t.mac\tÃ£Â‡a\t'faolain\t.if\t.org\t-which\t-yuk\t'agata\t'alessandro\tÃ£Âvila\t'conner\t'ev\t'haiti\t'innocenzio\t'regan\t-related\t-uh\t.xxx\tÃ£Â‰ric\t'burg\t'olonne\t'oyly\t'ao\t.co.uk\t'elegance\t's-like\t'urbervilles\tÃªÂ¼dubai\tÃªÂ¼nÃªÂ¼\t'er-do-wells\t'guessan\t.he\tÃªÂ¼ÃªÂ¼we\t.mobi\t.they\t-ee\t'mahony\t.this\t'ancona\t'ipulotu\t'night\t'oh\t'orange\t'andrea\t'evelyn\t'naan\t'nora\t'oeuvre\t.pdf\t'urso\tÃ£Â§a\t'antibes\t'bama\t.axjo\t-era\t-inspired\t'offay\t'aosta\t'ers\t'ron\t's-land\t'acampo\t'jays\t'ambrosio\tÃ£Â“scar\t'elle\t-esque\t.tel\t-winning\t'boyle\t'este\t-high\t'ai\t'diaye\t'rent\tÃ£Â‰mile\t'engle\t'n'mix\tÃ£Â©lite\tÃªÂ¼ÃªÂ¼he\t'n'b\t'lakes\t's-roosevelt\t'aime\t'ali\t'ampezzo\t'occitane\t.eco\t.you\t.but\t'dwyer\t-plus\t'flaherty\t'nai\t'flynn\t'tis\t'avion\t-in\t.we\t.bkx\t'ed\t'onofrio\t'higgins\t-minute\t.ssec\t-themed\t'arte\t'espresso\t'gorman\t'melveny\t'aretz\t'il\t'fallon\t-long\t'o's\t'ad\tÃ£Âlvarez\t-it\t'brian\t'er-do-well\t'mara\t'asavalu\t'amore\t'farrell\tÃªÂ¼the\t'un\t'utri\tÃ£Â‰cole\t'argent\t-game\t.hsi\t'ing\t'mores\t'bannon\t'easter\tÃ£Â©lan\tÃ£Â©migrÃ£Â©s\t'alema\t'in\t'shaughnessy\t'ath\t'halloran\t'express\t.it\t'ufia\t't-miss\t's-length\t'know\t'Ã£Â©tat\t'uiha\t'ryan\t-inch\t'oro\t'ness\t-year-old\t'guemo\t'dour\t'isÃ£Â¨re\t-mile\t'automobile\t'doherty\t'is\tÃ£Â‰lysÃ£Â©e\t-and\t'homme\t'agostino\t'loan\t'amico\t'estaing\t'huez\t'donovan\t'von\t.dxy\t-type\t'enfant\t'quinn\tÃªÂ¼ÃªÂ¼the\t'etre\t'barry\t'orsay\t'kelly\t'twaun\tÃ£Â´l\t'honneur\t'art\t-owned\t'groats\t'alofa\t.and\t'er\t'alma\t'hagan\t'ivoire\t'oeil\t'oialo\tÃ£Â©migrÃ£Â©\t'em\t'escoto\t-based\t'kane\t'Ã£Âªtre\t'hern\t'alene\t-hour\t'amato\t'sean\t'tselem\t'loughlin\t'osservatore\t'ite-led\t'azur\t'arc\t-like\t'souza\t.net\t'blanche\t'oeuvres\t'angelo\t'day\t.the\t'isere\t-year\t.com\t'affaires\t'orÃ£Â©al\t'equipe\t'donoghue\t'ts\t'am\t'byrne\tÃ£Âlvaro\t'nt\t'amour\t'vi\tÃ£Ângel\t'hanlon\t'keeffe\t'dea\t'est\t'zogbia\t'en\t'dell\t'epargne\t'all\t.ixic\t's-eye\t'dowd\t-the\t'etat\t-style\t'meara\t'addario\t'ida\t'mon\t'grady\t'ites\t'callaghan\t.dji\t.spx\t'rourke\t'toole\t'nique\t'oreal\t'hair\t'italia\t'n'roll\t'djamena\t'arcy\t'an\t'neil\t'keefe\t'or\t'shea\t'antoni\t'gara\t'hare\t'hara\t'leary\t'driscoll\t'adua\t'sullivan\t'connell\t'clock\t'aquila\t'reilly\t'malley\t'donnell\t'ite\t'connor\t'neill\t'neal\t'brien\t'll\t've\t're\n"
     ]
    }
   ],
   "source": [
    "corrige( wrong_words, lexique, jaro_winkler = True, Levenshtein = False,  Jaccard = False, Cosine = False, Hamming = False, LCSS = False, Damerau_levenshtein = False, soundex = False , needleman_wunsch=True )\n"
   ]
  },
  {
   "cell_type": "code",
   "execution_count": null,
   "metadata": {},
   "outputs": [],
   "source": []
  },
  {
   "cell_type": "code",
   "execution_count": 120,
   "metadata": {},
   "outputs": [
    {
     "data": {
      "text/plain": [
       "0.9111111111111111"
      ]
     },
     "execution_count": 120,
     "metadata": {},
     "output_type": "execute_result"
    }
   ],
   "source": []
  },
  {
   "cell_type": "code",
   "execution_count": 317,
   "metadata": {},
   "outputs": [
    {
     "data": {
      "text/plain": [
       "-4.0"
      ]
     },
     "execution_count": 317,
     "metadata": {},
     "output_type": "execute_result"
    }
   ],
   "source": [
    "textdistance.needleman_wunsch.distance('test', 'test') "
   ]
  },
  {
   "cell_type": "code",
   "execution_count": 245,
   "metadata": {},
   "outputs": [],
   "source": [
    "# Votre programme prendra comme seul argument obligatoire le nom d'un lexique de mots \n",
    "# Vous pouvez doter votre programme d'options permettant de contr^oler le comportement de votre correcteur. \n"
   ]
  },
  {
   "cell_type": "markdown",
   "metadata": {},
   "source": [
    "## Evaluation"
   ]
  },
  {
   "cell_type": "code",
   "execution_count": null,
   "metadata": {},
   "outputs": [],
   "source": [
    "reference = 'devoir3-train'"
   ]
  },
  {
   "cell_type": "code",
   "execution_count": null,
   "metadata": {},
   "outputs": [],
   "source": [
    "def eval(correction_line, reference):\n",
    "    # look for wrong word in the reference file\n",
    "    \n",
    "    # take the correct correctionss\n",
    "    \n",
    "    # compute mesure de qualite ? \n",
    "    "
   ]
  }
 ],
 "metadata": {
  "kernelspec": {
   "display_name": "Python 3",
   "language": "python",
   "name": "python3"
  },
  "language_info": {
   "codemirror_mode": {
    "name": "ipython",
    "version": 3
   },
   "file_extension": ".py",
   "mimetype": "text/x-python",
   "name": "python",
   "nbconvert_exporter": "python",
   "pygments_lexer": "ipython3",
   "version": "3.8.5"
  }
 },
 "nbformat": 4,
 "nbformat_minor": 4
}