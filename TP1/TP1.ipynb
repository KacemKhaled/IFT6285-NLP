{
 "cells": [
  {
   "cell_type": "code",
   "execution_count": 1,
   "metadata": {
    "pycharm": {
     "name": "#%%\n"
    }
   },
   "outputs": [],
   "source": [
    "import nltk\n",
    "import sys\n",
    "from collections import Counter\n",
    "import pandas as pd\n",
    "from os import listdir\n",
    "from tqdm import tqdm\n",
    "import time\n",
    "import matplotlib.pyplot as plt"
   ]
  },
  {
   "cell_type": "code",
   "execution_count": 2,
   "metadata": {},
   "outputs": [],
   "source": [
    "folder = 'training-monolingual.tokenized.shuffled/'"
   ]
  },
  {
   "cell_type": "markdown",
   "metadata": {},
   "source": [
    "# Part 1 : Counting Words without transformation"
   ]
  },
  {
   "cell_type": "code",
   "execution_count": 45,
   "metadata": {},
   "outputs": [],
   "source": [
    "def count_words(folder):\n",
    "    files = listdir(folder)\n",
    "    wc = Counter()\n",
    "    times = []\n",
    "    types = []\n",
    "    start_time = time.time()\n",
    "    for fn in tqdm(files):\n",
    "        with open(folder+fn, 'r',encoding=\"utf8\") as f:\n",
    "            corpus = f.read()\n",
    "            tokens = corpus.split(' ')\n",
    "            wc += Counter(tokens) # word_tokenize(object)\n",
    "            times.append(time.time() - start_time)\n",
    "            types.append(len(wc))\n",
    "        f.close()\n",
    "    total_time = (time.time() - start_time)\n",
    "    print(\"Total time : --- %s seconds ---\" % total_time)\n",
    "    return total_time, wc, times, types"
   ]
  },
  {
   "cell_type": "code",
   "execution_count": 46,
   "metadata": {},
   "outputs": [
    {
     "name": "stderr",
     "output_type": "stream",
     "text": [
      "100%|██████████| 99/99 [03:12<00:00,  1.94s/it]"
     ]
    },
    {
     "name": "stdout",
     "output_type": "stream",
     "text": [
      "Total time : --- 192.07884645462036 seconds ---\n"
     ]
    },
    {
     "name": "stderr",
     "output_type": "stream",
     "text": [
      "\n"
     ]
    }
   ],
   "source": [
    "total_time, wc, times, types = count_words(folder)"
   ]
  },
  {
   "cell_type": "code",
   "execution_count": 47,
   "metadata": {
    "scrolled": true
   },
   "outputs": [
    {
     "name": "stdout",
     "output_type": "stream",
     "text": [
      "                        frequency\n",
      "The                        850976\n",
      "U.S.                       604446\n",
      "Centers                      8790\n",
      "for                       6508821\n",
      "Disease                      8708\n",
      "...                           ...\n",
      ".\\nCarefully-regulated          1\n",
      "LabNearly                       1\n",
      "benefitsor                      1\n",
      "Ndoungou                        1\n",
      "un-prepossessing                1\n",
      "\n",
      "[2851884 rows x 1 columns]\n"
     ]
    }
   ],
   "source": [
    "df = pd.DataFrame.from_dict(wc, orient='index', columns = ['frequency'])\n",
    "print(df)\n"
   ]
  },
  {
   "cell_type": "code",
   "execution_count": 48,
   "metadata": {},
   "outputs": [],
   "source": [
    "total_words = df['frequency'].sum()\n",
    "total_types = len(df)"
   ]
  },
  {
   "cell_type": "code",
   "execution_count": 49,
   "metadata": {},
   "outputs": [
    {
     "name": "stdout",
     "output_type": "stream",
     "text": [
      "Number of tokens:  738347955\n",
      "Vocab size:  2851884\n"
     ]
    }
   ],
   "source": [
    "# number of tokens\n",
    "print(\"Number of tokens: \", total_words)\n",
    "# vocab size: len(wc) = = len(df)\n",
    "vocab_size = len(wc)\n",
    "print(\"Vocab size: \", len(wc))"
   ]
  },
  {
   "cell_type": "code",
   "execution_count": 50,
   "metadata": {},
   "outputs": [
    {
     "data": {
      "image/png": "[encoded data removed]",
      "text/plain": [
       "<Figure size 648x432 with 1 Axes>"
      ]
     },
     "metadata": {
      "needs_background": "light"
     },
     "output_type": "display_data"
    },
    {
     "data": {
      "image/png": "[encoded data removed]",
      "text/plain": [
       "<Figure size 648x432 with 1 Axes>"
      ]
     },
     "metadata": {
      "needs_background": "light"
     },
     "output_type": "display_data"
    }
   ],
   "source": [
    "tranches = list(range(1,100))\n",
    "plt.figure(figsize=(9,6))\n",
    "plt.plot(tranches, times,'r--')\n",
    "plt.title(\"Le temps mis pour compter les mots en fonction du nombre de tranches considérées\")\n",
    "plt.show()\n",
    "\n",
    "plt.figure(figsize=(9,6))\n",
    "plt.plot(tranches, types , 'g^')\n",
    "plt.title(\"Le nombre de types en fonction du nombre de tranches considérées\")\n",
    "plt.show()"
   ]
  },
  {
   "cell_type": "markdown",
   "metadata": {},
   "source": [
    "# Part 2 : Multiple transformations comparison\n"
   ]
  },
  {
   "cell_type": "code",
   "execution_count": 3,
   "metadata": {},
   "outputs": [
    {
     "name": "stdout",
     "output_type": "stream",
     "text": [
      "Requirement already satisfied: clean-text in c:\\users\\kacem\\anaconda3\\lib\\site-packages (0.5.0)\n",
      "Requirement already satisfied: emoji in c:\\users\\kacem\\anaconda3\\lib\\site-packages (from clean-text) (1.4.2)\n",
      "Requirement already satisfied: ftfy<7.0,>=6.0 in c:\\users\\kacem\\anaconda3\\lib\\site-packages (from clean-text) (6.0.3)\n",
      "Requirement already satisfied: wcwidth in c:\\users\\kacem\\anaconda3\\lib\\site-packages (from ftfy<7.0,>=6.0->clean-text) (0.2.5)\n"
     ]
    }
   ],
   "source": [
    "!pip install clean-text"
   ]
  },
  {
   "cell_type": "code",
   "execution_count": 4,
   "metadata": {},
   "outputs": [
    {
     "name": "stderr",
     "output_type": "stream",
     "text": [
      "Since the GPL-licensed package `unidecode` is not installed, using Python's `unicodedata` package which yields worse results.\n",
      "[nltk_data] Downloading package wordnet to\n",
      "[nltk_data]     C:\\Users\\kacem\\AppData\\Roaming\\nltk_data...\n",
      "[nltk_data]   Package wordnet is already up-to-date!\n"
     ]
    }
   ],
   "source": [
    "import nltk \n",
    "from nltk.corpus import stopwords\n",
    "from nltk.stem import PorterStemmer\n",
    "import string\n",
    "from nltk.stem import \tWordNetLemmatizer\n",
    "\n",
    "from cleantext import clean\n",
    "\n",
    "nltk.download('wordnet')\n",
    "wordnet_lemmatizer = WordNetLemmatizer()\n",
    "stemmer = PorterStemmer()\n",
    "stopwords_english = stopwords.words('english')"
   ]
  },
  {
   "cell_type": "code",
   "execution_count": 5,
   "metadata": {},
   "outputs": [],
   "source": [
    "# todo test combined Vs separated\n",
    "def count_words(folder, lower = False, numeric = False, url = False, \n",
    "                stem = False, lem = False, puncts = False, stopwords = False):\n",
    "    files = listdir(folder)\n",
    "    wc = Counter()\n",
    "    times = []\n",
    "    types = []\n",
    "    start_time = time.time()\n",
    "    for fn in tqdm(files):\n",
    "        with open(folder+fn, 'r',encoding=\"utf8\") as f:\n",
    "            corpus = f.read()\n",
    "            if numeric or url:\n",
    "                corpus = clean(corpus,fix_unicode=False,to_ascii = False,\n",
    "                            lower=False, no_numbers=numeric,\n",
    "                            replace_with_number=\"__NUM__\", no_urls=url,\n",
    "                            replace_with_url=\"__URL__\")\n",
    "            tokens = corpus.split(' ')\n",
    "            if puncts:\n",
    "                tokens = [ t for t in tokens if t not in string.punctuation]\n",
    "            if lower:\n",
    "                tokens = [t.lower() for t in tokens]\n",
    "            if stem:\n",
    "                tokens = [stemmer.stem(t) for t in tokens]\n",
    "            if lem: \n",
    "                tokens = [wordnet_lemmatizer.lemmatize(t) for t in tokens]\n",
    "            if stopwords:\n",
    "                tokens = [ t for t in tokens if t not in stopwords_english]               \n",
    "            \n",
    "            wc += Counter(tokens)\n",
    "            times.append(time.time() - start_time)\n",
    "            types.append(len(wc))\n",
    "        f.close()\n",
    "    total_time = (time.time() - start_time)\n",
    "    vocab_size = len(wc)\n",
    "    print(\"Vocab size :\", vocab_size)\n",
    "    print(\"Total time : --- %s seconds ---\" % total_time)\n",
    "    return total_time, vocab_size, times, types\n"
   ]
  },
  {
   "cell_type": "markdown",
   "metadata": {},
   "source": [
    "### Transformations :"
   ]
  },
  {
   "cell_type": "code",
   "execution_count": 6,
   "metadata": {
    "pycharm": {
     "is_executing": true
    }
   },
   "outputs": [
    {
     "name": "stderr",
     "output_type": "stream",
     "text": [
      "100%|██████████| 99/99 [02:32<00:00,  1.54s/it]\n"
     ]
    },
    {
     "name": "stdout",
     "output_type": "stream",
     "text": [
      "Vocab size : 2851884\n",
      "Total time : --- 152.50782895088196 seconds ---\n"
     ]
    }
   ],
   "source": [
    "# simple: no transformation\n",
    "total_time, vocab_size, times, types = count_words(folder, lower = False, numeric = False, \n",
    "                                        url = False, stem = False, lem = False, \n",
    "                                        puncts = False, stopwords = False)"
   ]
  },
  {
   "cell_type": "code",
   "execution_count": 9,
   "metadata": {},
   "outputs": [
    {
     "name": "stderr",
     "output_type": "stream",
     "text": [
      "100%|██████████| 99/99 [03:30<00:00,  2.12s/it]\n"
     ]
    },
    {
     "name": "stdout",
     "output_type": "stream",
     "text": [
      "Vocab size : 2613568\n",
      "Total time : --- 210.2844386100769 seconds ---\n"
     ]
    }
   ],
   "source": [
    "# transformation 1 : lower\n",
    "total_time_1, vocab_size_1, times_1, types_1 = count_words(folder, lower = True, numeric = False, \n",
    "                                        url = False, stem = False, lem = False, \n",
    "                                        puncts = False, stopwords = False)\n"
   ]
  },
  {
   "cell_type": "code",
   "execution_count": 10,
   "metadata": {},
   "outputs": [
    {
     "name": "stderr",
     "output_type": "stream",
     "text": [
      "100%|██████████| 99/99 [03:34<00:00,  2.17s/it]"
     ]
    },
    {
     "name": "stdout",
     "output_type": "stream",
     "text": [
      "Vocab size : 2851852\n",
      "Total time : --- 214.3444745540619 seconds ---\n"
     ]
    },
    {
     "name": "stderr",
     "output_type": "stream",
     "text": [
      "\n"
     ]
    }
   ],
   "source": [
    "# transformation 2 : no puncts\n",
    "total_time_2, vocab_size_2, times_2, types_2 = count_words(folder, lower = False, numeric = False, \n",
    "                                        url = False, stem = False, lem = False, \n",
    "                                        puncts = True, stopwords = False)\n"
   ]
  },
  {
   "cell_type": "code",
   "execution_count": 11,
   "metadata": {},
   "outputs": [
    {
     "name": "stderr",
     "output_type": "stream",
     "text": [
      "100%|██████████| 99/99 [18:47<00:00, 11.39s/it]\n"
     ]
    },
    {
     "name": "stdout",
     "output_type": "stream",
     "text": [
      "Vocab size : 2851731\n",
      "Total time : --- 1127.523307800293 seconds ---\n"
     ]
    }
   ],
   "source": [
    "# transformation 3 : no stopwords\n",
    "total_time_3, vocab_size_3, times_3, types_3 = count_words(folder, lower = False, numeric = False, \n",
    "                                        url = False, stem = False, lem = False, \n",
    "                                        puncts = False, stopwords = True)\n"
   ]
  },
  {
   "cell_type": "code",
   "execution_count": 12,
   "metadata": {},
   "outputs": [
    {
     "name": "stderr",
     "output_type": "stream",
     "text": [
      "100%|██████████| 99/99 [2:38:20<00:00, 95.97s/it]   \n"
     ]
    },
    {
     "name": "stdout",
     "output_type": "stream",
     "text": [
      "Vocab size : 2359704\n",
      "Total time : --- 9500.614163637161 seconds ---\n"
     ]
    }
   ],
   "source": [
    "# transformation 4 : stem\n",
    "total_time_4, vocab_size_4, times_4, types_4 = count_words(folder, lower = False, numeric = False, \n",
    "                                        url = False, stem = True, lem = False, \n",
    "                                        puncts = False, stopwords = False)\n"
   ]
  },
  {
   "cell_type": "code",
   "execution_count": 13,
   "metadata": {},
   "outputs": [
    {
     "name": "stderr",
     "output_type": "stream",
     "text": [
      "100%|██████████| 99/99 [36:57<00:00, 22.40s/it]\n"
     ]
    },
    {
     "name": "stdout",
     "output_type": "stream",
     "text": [
      "Vocab size : 2829068\n",
      "Total time : --- 2217.9605841636658 seconds ---\n"
     ]
    }
   ],
   "source": [
    "# transformation 5 : lem\n",
    "total_time_5, vocab_size_5, times_5, types_5  = count_words(folder, lower = False, numeric = False, \n",
    "                                        url = False, stem = False, lem = True, \n",
    "                                        puncts = False, stopwords = False)\n"
   ]
  },
  {
   "cell_type": "code",
   "execution_count": 7,
   "metadata": {},
   "outputs": [
    {
     "name": "stderr",
     "output_type": "stream",
     "text": [
      "100%|██████████| 99/99 [13:46<00:00,  8.35s/it]\n"
     ]
    },
    {
     "name": "stdout",
     "output_type": "stream",
     "text": [
      "Vocab size : 2516225\n",
      "Total time : --- 826.4670424461365 seconds ---\n"
     ]
    }
   ],
   "source": [
    "# transformation 6 : no numeric\n",
    "total_time_6, vocab_size_6, times_6, types_6 = count_words(folder, lower = False, numeric = True, \n",
    "                                        url = False, stem = False, lem = False, \n",
    "                                        puncts = False, stopwords = False)\n"
   ]
  },
  {
   "cell_type": "code",
   "execution_count": 8,
   "metadata": {},
   "outputs": [
    {
     "name": "stderr",
     "output_type": "stream",
     "text": [
      "100%|██████████| 99/99 [12:42<00:00,  7.71s/it]\n"
     ]
    },
    {
     "name": "stdout",
     "output_type": "stream",
     "text": [
      "Vocab size : 2783355\n",
      "Total time : --- 762.9262902736664 seconds ---\n"
     ]
    }
   ],
   "source": [
    "# transformation 7 : no url\n",
    "total_time_7, vocab_size_7, times_7, types_7 = count_words(folder, lower = False, numeric = False, \n",
    "                                        url = True, stem = False, lem = False, \n",
    "                                        puncts = False, stopwords = False)\n"
   ]
  },
  {
   "cell_type": "code",
   "execution_count": 127,
   "metadata": {},
   "outputs": [],
   "source": [
    "# save the curves data in csv files\n",
    "all_times = [times, times_1, times_2, times_3, times_4, times_5, times_6, times_7]\n",
    "all_types = [types, types_1, types_2, types_3, types_4, types_5, times_6, times_7]\n",
    "import numpy as np\n",
    "np.savetxt(\"csv/times.csv\", \n",
    "           all_times,\n",
    "           delimiter =\", \", \n",
    "           fmt ='% s')\n",
    "np.savetxt(\"csv/types.csv\", \n",
    "           all_types,\n",
    "           delimiter =\", \", \n",
    "           fmt ='% s')\n"
   ]
  },
  {
   "cell_type": "code",
   "execution_count": 150,
   "metadata": {},
   "outputs": [],
   "source": [
    "transformations = ['none','lower','no puncts','no stopwords','stemming','lemmatization','no numeric','no url']\n",
    "vocab_sizes = [vocab_size, vocab_size_1, vocab_size_2, vocab_size_3, vocab_size_4, vocab_size_5, vocab_size_6, vocab_size_7]\n",
    "total_times = [total_time, total_time_1, total_time_2, total_time_3, total_time_4, total_time_5, total_time_6, total_time_7]"
   ]
  },
  {
   "cell_type": "code",
   "execution_count": 133,
   "metadata": {},
   "outputs": [],
   "source": [
    "def plot_curve(values, transformations, title = '',xlabel = '',ylabel='',n=100):\n",
    "    tranches = list(range(1,n))\n",
    "    plt.figure(figsize=(12,9))\n",
    "    for i in range(len(transformations)):\n",
    "        plt.plot(tranches, values[i], label=transformations[i])\n",
    "    plt.title(title)\n",
    "    plt.xlabel(xlabel)\n",
    "    plt.ylabel(ylabel)\n",
    "    plt.legend(loc=\"upper left\")\n",
    "    plt.show()"
   ]
  },
  {
   "cell_type": "code",
   "execution_count": 135,
   "metadata": {},
   "outputs": [
    {
     "data": {
      "image/png": "[encoded data removed]",
      "text/plain": [
       "<Figure size 864x648 with 1 Axes>"
      ]
     },
     "metadata": {
      "needs_background": "light"
     },
     "output_type": "display_data"
    },
    {
     "data": {
      "image/png": "[encoded data removed]",
      "text/plain": [
       "<Figure size 864x648 with 1 Axes>"
      ]
     },
     "metadata": {
      "needs_background": "light"
     },
     "output_type": "display_data"
    }
   ],
   "source": [
    "plot_curve(all_times,transformations,\n",
    "           title=\"Le temps mis pour compter les mots en fonction du nombre de tranches considérées\",\n",
    "          xlabel = \"Tranches\",\n",
    "          ylabel = \"Temps mis dans la transformation (en secondes)\")\n",
    "plot_curve(all_types,transformations, \n",
    "           title=\"Le nombre de types en fonction du nombre de tranches considérées\",\n",
    "          xlabel = \"Tranches de corpus\",\n",
    "          ylabel = \"La taille de vocabulaire\")"
   ]
  },
  {
   "cell_type": "code",
   "execution_count": 55,
   "metadata": {},
   "outputs": [],
   "source": [
    "d = {'Transformations': transformations, 'Vocabulary size': vocab_sizes, 'Execution time (s)': total_times, \n",
    "     'Reduced Vocab ‰': [(v - vocab_sizes[0])*1000/vocab_sizes[0] for v in vocab_sizes],'Lost time': [t - total_times[0] for t in total_times] }\n",
    "df_results = pd.DataFrame(data=d)"
   ]
  },
  {
   "cell_type": "code",
   "execution_count": 56,
   "metadata": {},
   "outputs": [
    {
     "data": {
      "text/html": [
       "<div>\n",
       "<style scoped>\n",
       "    .dataframe tbody tr th:only-of-type {\n",
       "        vertical-align: middle;\n",
       "    }\n",
       "\n",
       "    .dataframe tbody tr th {\n",
       "        vertical-align: top;\n",
       "    }\n",
       "\n",
       "    .dataframe thead th {\n",
       "        text-align: right;\n",
       "    }\n",
       "</style>\n",
       "<table border=\"1\" class=\"dataframe\">\n",
       "  <thead>\n",
       "    <tr style=\"text-align: right;\">\n",
       "      <th></th>\n",
       "      <th>Transformations</th>\n",
       "      <th>Vocabulary size</th>\n",
       "      <th>Execution time (s)</th>\n",
       "      <th>Reduced Vocab ‰</th>\n",
       "      <th>Lost time</th>\n",
       "    </tr>\n",
       "  </thead>\n",
       "  <tbody>\n",
       "    <tr>\n",
       "      <th>0</th>\n",
       "      <td>none</td>\n",
       "      <td>2851884</td>\n",
       "      <td>152.507829</td>\n",
       "      <td>0.000000</td>\n",
       "      <td>0.000000</td>\n",
       "    </tr>\n",
       "    <tr>\n",
       "      <th>1</th>\n",
       "      <td>lower</td>\n",
       "      <td>2613568</td>\n",
       "      <td>210.284439</td>\n",
       "      <td>-83.564409</td>\n",
       "      <td>57.776610</td>\n",
       "    </tr>\n",
       "    <tr>\n",
       "      <th>2</th>\n",
       "      <td>no puncts</td>\n",
       "      <td>2851852</td>\n",
       "      <td>214.344475</td>\n",
       "      <td>-0.011221</td>\n",
       "      <td>61.836646</td>\n",
       "    </tr>\n",
       "    <tr>\n",
       "      <th>3</th>\n",
       "      <td>no stopwords</td>\n",
       "      <td>2851731</td>\n",
       "      <td>1127.523308</td>\n",
       "      <td>-0.053649</td>\n",
       "      <td>975.015479</td>\n",
       "    </tr>\n",
       "    <tr>\n",
       "      <th>4</th>\n",
       "      <td>stemming</td>\n",
       "      <td>2359704</td>\n",
       "      <td>9500.614164</td>\n",
       "      <td>-172.580652</td>\n",
       "      <td>9348.106335</td>\n",
       "    </tr>\n",
       "    <tr>\n",
       "      <th>5</th>\n",
       "      <td>lemmatization</td>\n",
       "      <td>2829068</td>\n",
       "      <td>2217.960584</td>\n",
       "      <td>-8.000325</td>\n",
       "      <td>2065.452755</td>\n",
       "    </tr>\n",
       "    <tr>\n",
       "      <th>6</th>\n",
       "      <td>no numeric</td>\n",
       "      <td>2516225</td>\n",
       "      <td>826.467042</td>\n",
       "      <td>-117.697284</td>\n",
       "      <td>673.959213</td>\n",
       "    </tr>\n",
       "    <tr>\n",
       "      <th>7</th>\n",
       "      <td>no url</td>\n",
       "      <td>2783355</td>\n",
       "      <td>762.926290</td>\n",
       "      <td>-24.029378</td>\n",
       "      <td>610.418461</td>\n",
       "    </tr>\n",
       "  </tbody>\n",
       "</table>\n",
       "</div>"
      ],
      "text/plain": [
       "  Transformations  Vocabulary size  Execution time (s)  Reduced Vocab ‰  \\\n",
       "0            none          2851884          152.507829         0.000000   \n",
       "1           lower          2613568          210.284439       -83.564409   \n",
       "2       no puncts          2851852          214.344475        -0.011221   \n",
       "3    no stopwords          2851731         1127.523308        -0.053649   \n",
       "4        stemming          2359704         9500.614164      -172.580652   \n",
       "5   lemmatization          2829068         2217.960584        -8.000325   \n",
       "6      no numeric          2516225          826.467042      -117.697284   \n",
       "7          no url          2783355          762.926290       -24.029378   \n",
       "\n",
       "     Lost time  \n",
       "0     0.000000  \n",
       "1    57.776610  \n",
       "2    61.836646  \n",
       "3   975.015479  \n",
       "4  9348.106335  \n",
       "5  2065.452755  \n",
       "6   673.959213  \n",
       "7   610.418461  "
      ]
     },
     "execution_count": 56,
     "metadata": {},
     "output_type": "execute_result"
    }
   ],
   "source": [
    "df_results"
   ]
  },
  {
   "cell_type": "code",
   "execution_count": 57,
   "metadata": {},
   "outputs": [
    {
     "data": {
      "text/html": [
       "<div>\n",
       "<style scoped>\n",
       "    .dataframe tbody tr th:only-of-type {\n",
       "        vertical-align: middle;\n",
       "    }\n",
       "\n",
       "    .dataframe tbody tr th {\n",
       "        vertical-align: top;\n",
       "    }\n",
       "\n",
       "    .dataframe thead th {\n",
       "        text-align: right;\n",
       "    }\n",
       "</style>\n",
       "<table border=\"1\" class=\"dataframe\">\n",
       "  <thead>\n",
       "    <tr style=\"text-align: right;\">\n",
       "      <th></th>\n",
       "      <th>Transformations</th>\n",
       "      <th>Vocabulary size</th>\n",
       "      <th>Execution time (s)</th>\n",
       "      <th>Reduced Vocab ‰</th>\n",
       "      <th>Lost time</th>\n",
       "    </tr>\n",
       "  </thead>\n",
       "  <tbody>\n",
       "    <tr>\n",
       "      <th>4</th>\n",
       "      <td>stemming</td>\n",
       "      <td>2359704</td>\n",
       "      <td>9500.614164</td>\n",
       "      <td>-172.580652</td>\n",
       "      <td>9348.106335</td>\n",
       "    </tr>\n",
       "    <tr>\n",
       "      <th>6</th>\n",
       "      <td>no numeric</td>\n",
       "      <td>2516225</td>\n",
       "      <td>826.467042</td>\n",
       "      <td>-117.697284</td>\n",
       "      <td>673.959213</td>\n",
       "    </tr>\n",
       "    <tr>\n",
       "      <th>1</th>\n",
       "      <td>lower</td>\n",
       "      <td>2613568</td>\n",
       "      <td>210.284439</td>\n",
       "      <td>-83.564409</td>\n",
       "      <td>57.776610</td>\n",
       "    </tr>\n",
       "    <tr>\n",
       "      <th>7</th>\n",
       "      <td>no url</td>\n",
       "      <td>2783355</td>\n",
       "      <td>762.926290</td>\n",
       "      <td>-24.029378</td>\n",
       "      <td>610.418461</td>\n",
       "    </tr>\n",
       "    <tr>\n",
       "      <th>5</th>\n",
       "      <td>lemmatization</td>\n",
       "      <td>2829068</td>\n",
       "      <td>2217.960584</td>\n",
       "      <td>-8.000325</td>\n",
       "      <td>2065.452755</td>\n",
       "    </tr>\n",
       "    <tr>\n",
       "      <th>3</th>\n",
       "      <td>no stopwords</td>\n",
       "      <td>2851731</td>\n",
       "      <td>1127.523308</td>\n",
       "      <td>-0.053649</td>\n",
       "      <td>975.015479</td>\n",
       "    </tr>\n",
       "    <tr>\n",
       "      <th>2</th>\n",
       "      <td>no puncts</td>\n",
       "      <td>2851852</td>\n",
       "      <td>214.344475</td>\n",
       "      <td>-0.011221</td>\n",
       "      <td>61.836646</td>\n",
       "    </tr>\n",
       "    <tr>\n",
       "      <th>0</th>\n",
       "      <td>none</td>\n",
       "      <td>2851884</td>\n",
       "      <td>152.507829</td>\n",
       "      <td>0.000000</td>\n",
       "      <td>0.000000</td>\n",
       "    </tr>\n",
       "  </tbody>\n",
       "</table>\n",
       "</div>"
      ],
      "text/plain": [
       "  Transformations  Vocabulary size  Execution time (s)  Reduced Vocab ‰  \\\n",
       "4        stemming          2359704         9500.614164      -172.580652   \n",
       "6      no numeric          2516225          826.467042      -117.697284   \n",
       "1           lower          2613568          210.284439       -83.564409   \n",
       "7          no url          2783355          762.926290       -24.029378   \n",
       "5   lemmatization          2829068         2217.960584        -8.000325   \n",
       "3    no stopwords          2851731         1127.523308        -0.053649   \n",
       "2       no puncts          2851852          214.344475        -0.011221   \n",
       "0            none          2851884          152.507829         0.000000   \n",
       "\n",
       "     Lost time  \n",
       "4  9348.106335  \n",
       "6   673.959213  \n",
       "1    57.776610  \n",
       "7   610.418461  \n",
       "5  2065.452755  \n",
       "3   975.015479  \n",
       "2    61.836646  \n",
       "0     0.000000  "
      ]
     },
     "execution_count": 57,
     "metadata": {},
     "output_type": "execute_result"
    }
   ],
   "source": [
    "df_results.sort_values(by=['Vocabulary size'])"
   ]
  },
  {
   "cell_type": "code",
   "execution_count": 58,
   "metadata": {},
   "outputs": [
    {
     "data": {
      "text/html": [
       "<div>\n",
       "<style scoped>\n",
       "    .dataframe tbody tr th:only-of-type {\n",
       "        vertical-align: middle;\n",
       "    }\n",
       "\n",
       "    .dataframe tbody tr th {\n",
       "        vertical-align: top;\n",
       "    }\n",
       "\n",
       "    .dataframe thead th {\n",
       "        text-align: right;\n",
       "    }\n",
       "</style>\n",
       "<table border=\"1\" class=\"dataframe\">\n",
       "  <thead>\n",
       "    <tr style=\"text-align: right;\">\n",
       "      <th></th>\n",
       "      <th>Transformations</th>\n",
       "      <th>Vocabulary size</th>\n",
       "      <th>Execution time (s)</th>\n",
       "      <th>Reduced Vocab ‰</th>\n",
       "      <th>Lost time</th>\n",
       "    </tr>\n",
       "  </thead>\n",
       "  <tbody>\n",
       "    <tr>\n",
       "      <th>0</th>\n",
       "      <td>none</td>\n",
       "      <td>2851884</td>\n",
       "      <td>152.507829</td>\n",
       "      <td>0.000000</td>\n",
       "      <td>0.000000</td>\n",
       "    </tr>\n",
       "    <tr>\n",
       "      <th>1</th>\n",
       "      <td>lower</td>\n",
       "      <td>2613568</td>\n",
       "      <td>210.284439</td>\n",
       "      <td>-83.564409</td>\n",
       "      <td>57.776610</td>\n",
       "    </tr>\n",
       "    <tr>\n",
       "      <th>2</th>\n",
       "      <td>no puncts</td>\n",
       "      <td>2851852</td>\n",
       "      <td>214.344475</td>\n",
       "      <td>-0.011221</td>\n",
       "      <td>61.836646</td>\n",
       "    </tr>\n",
       "    <tr>\n",
       "      <th>7</th>\n",
       "      <td>no url</td>\n",
       "      <td>2783355</td>\n",
       "      <td>762.926290</td>\n",
       "      <td>-24.029378</td>\n",
       "      <td>610.418461</td>\n",
       "    </tr>\n",
       "    <tr>\n",
       "      <th>6</th>\n",
       "      <td>no numeric</td>\n",
       "      <td>2516225</td>\n",
       "      <td>826.467042</td>\n",
       "      <td>-117.697284</td>\n",
       "      <td>673.959213</td>\n",
       "    </tr>\n",
       "    <tr>\n",
       "      <th>3</th>\n",
       "      <td>no stopwords</td>\n",
       "      <td>2851731</td>\n",
       "      <td>1127.523308</td>\n",
       "      <td>-0.053649</td>\n",
       "      <td>975.015479</td>\n",
       "    </tr>\n",
       "    <tr>\n",
       "      <th>5</th>\n",
       "      <td>lemmatization</td>\n",
       "      <td>2829068</td>\n",
       "      <td>2217.960584</td>\n",
       "      <td>-8.000325</td>\n",
       "      <td>2065.452755</td>\n",
       "    </tr>\n",
       "    <tr>\n",
       "      <th>4</th>\n",
       "      <td>stemming</td>\n",
       "      <td>2359704</td>\n",
       "      <td>9500.614164</td>\n",
       "      <td>-172.580652</td>\n",
       "      <td>9348.106335</td>\n",
       "    </tr>\n",
       "  </tbody>\n",
       "</table>\n",
       "</div>"
      ],
      "text/plain": [
       "  Transformations  Vocabulary size  Execution time (s)  Reduced Vocab ‰  \\\n",
       "0            none          2851884          152.507829         0.000000   \n",
       "1           lower          2613568          210.284439       -83.564409   \n",
       "2       no puncts          2851852          214.344475        -0.011221   \n",
       "7          no url          2783355          762.926290       -24.029378   \n",
       "6      no numeric          2516225          826.467042      -117.697284   \n",
       "3    no stopwords          2851731         1127.523308        -0.053649   \n",
       "5   lemmatization          2829068         2217.960584        -8.000325   \n",
       "4        stemming          2359704         9500.614164      -172.580652   \n",
       "\n",
       "     Lost time  \n",
       "0     0.000000  \n",
       "1    57.776610  \n",
       "2    61.836646  \n",
       "7   610.418461  \n",
       "6   673.959213  \n",
       "3   975.015479  \n",
       "5  2065.452755  \n",
       "4  9348.106335  "
      ]
     },
     "execution_count": 58,
     "metadata": {},
     "output_type": "execute_result"
    }
   ],
   "source": [
    "df_results.sort_values(by=['Execution time (s)'])"
   ]
  },
  {
   "cell_type": "code",
   "execution_count": 122,
   "metadata": {},
   "outputs": [],
   "source": [
    "import matplotlib.pyplot as plt\n",
    "\n",
    "def plot_vocab_time_per_transf(total_times,vocab_sizes, transformations):\n",
    "    fig, ax = plt.subplots(figsize=(9,6))\n",
    "    for i in range(len(transformations)):\n",
    "\n",
    "        ax.scatter(total_times[i],vocab_sizes[i],  label=transformations[i],\n",
    "                   alpha=1)\n",
    "\n",
    "    ax.legend()\n",
    "    ax.grid(True)\n",
    "    plt.title(\"La taille de vocabulaire en fonction de temps mis dans la transformation\")\n",
    "    plt.xlabel(\"Temps mis dans la transformation (en secondes)\")\n",
    "    plt.ylabel(\"La taille de vocabulaire\")\n",
    "    plt.show()\n"
   ]
  },
  {
   "cell_type": "code",
   "execution_count": 123,
   "metadata": {},
   "outputs": [
    {
     "data": {
      "image/png": "[encoded data removed]",
      "text/plain": [
       "<Figure size 648x432 with 1 Axes>"
      ]
     },
     "metadata": {
      "needs_background": "light"
     },
     "output_type": "display_data"
    }
   ],
   "source": [
    "plot_vocab_time_per_transf(total_times,vocab_sizes, transformations)"
   ]
  },
  {
   "cell_type": "markdown",
   "metadata": {},
   "source": [
    "## Chosen transformations: Execution time wise\n",
    "{lower, no puncts, no url, no numeric}"
   ]
  },
  {
   "cell_type": "code",
   "execution_count": 164,
   "metadata": {},
   "outputs": [],
   "source": [
    "def count_words_multiple_1(folder, lower = False, numeric = False, url = False, \n",
    "                stem = False, lem = False, puncts = False, stopwords = False):\n",
    "    files = listdir(folder)\n",
    "    wc = Counter()\n",
    "    times = []\n",
    "    types = []\n",
    "    start_time = time.time()\n",
    "    for fn in tqdm(files):\n",
    "        with open(folder+fn, 'r',encoding=\"utf8\") as f:\n",
    "            corpus = f.read()\n",
    "            if numeric or url:\n",
    "                corpus = clean(corpus,fix_unicode=False,to_ascii = False,\n",
    "                            no_numbers=numeric, #no_punct = puncts, lower=lower,\n",
    "                            replace_with_number=\"__NUM__\", no_urls=url,\n",
    "                            replace_with_url=\"__URL__\")\n",
    "            tokens = corpus.split(' ')\n",
    "            if puncts and lower:\n",
    "                tokens = [ t.lower() for t in tokens if t not in string.punctuation]\n",
    "            \n",
    "            wc += Counter(tokens)\n",
    "            times.append(time.time() - start_time)\n",
    "            types.append(len(wc))\n",
    "        f.close()\n",
    "    total_time = (time.time() - start_time)\n",
    "    vocab_size = len(wc)\n",
    "    print(\"Vocab size :\", vocab_size)\n",
    "    print(\"Total time : --- %s seconds ---\" % total_time)\n",
    "    return total_time, vocab_size, times, types, wc"
   ]
  },
  {
   "cell_type": "code",
   "execution_count": 61,
   "metadata": {},
   "outputs": [
    {
     "name": "stderr",
     "output_type": "stream",
     "text": [
      "100%|██████████| 99/99 [21:39<00:00, 13.12s/it]"
     ]
    },
    {
     "name": "stdout",
     "output_type": "stream",
     "text": [
      "Vocab size : 11003397\n",
      "Total time : --- 1299.2733478546143 seconds ---\n"
     ]
    },
    {
     "name": "stderr",
     "output_type": "stream",
     "text": [
      "\n"
     ]
    }
   ],
   "source": [
    "# transformation  : lower, no puncts, no url, no numeric\n",
    "total_time_i, vocab_size_i, times_i, types_i, wc_i = count_words_multiple_1(folder, lower = True, numeric = True, \n",
    "                                        url = True, stem = False, lem = False, \n",
    "                                        puncts = True, stopwords = False)"
   ]
  },
  {
   "cell_type": "markdown",
   "metadata": {},
   "source": [
    "## Chosen transformations: Vocabulary size wise\n",
    "{stemming, no numeric, lower, no url}"
   ]
  },
  {
   "cell_type": "code",
   "execution_count": 63,
   "metadata": {},
   "outputs": [],
   "source": [
    "def count_words_multiple_2(folder, lower = False, numeric = False, url = False, \n",
    "                stem = False, lem = False, puncts = False, stopwords = False):\n",
    "    files = listdir(folder)\n",
    "    wc = Counter()\n",
    "    times = []\n",
    "    types = []\n",
    "    start_time = time.time()\n",
    "    for fn in tqdm(files):\n",
    "        with open(folder+fn, 'r',encoding=\"utf8\") as f:\n",
    "            corpus = f.read()\n",
    "            if numeric or url:\n",
    "                corpus = clean(corpus,fix_unicode=False,to_ascii = False,\n",
    "                            lower=lower, no_numbers=numeric,\n",
    "                            replace_with_number=\"__NUM__\", no_urls=url,\n",
    "                            replace_with_url=\"__URL__\")\n",
    "            tokens = corpus.split(' ')\n",
    "            #if puncts and lower:\n",
    "            #    tokens = [ t.lower() for t in tokens if t not in string.punctuation]\n",
    "            if stem:\n",
    "                tokens = [stemmer.stem(t) for t in tokens]\n",
    "            if lem: \n",
    "                tokens = [wordnet_lemmatizer.lemmatize(t) for t in tokens]\n",
    "            if stopwords:\n",
    "                tokens = [ t for t in tokens if t not in stopwords_english] \n",
    "            wc += Counter(tokens)\n",
    "            times.append(time.time() - start_time)\n",
    "            types.append(len(wc))\n",
    "        f.close()\n",
    "    total_time = (time.time() - start_time)\n",
    "    vocab_size = len(wc)\n",
    "    print(\"Vocab size :\", vocab_size)\n",
    "    print(\"Total time : --- %s seconds ---\" % total_time)\n",
    "    return total_time, vocab_size, times, types, wc"
   ]
  },
  {
   "cell_type": "code",
   "execution_count": 64,
   "metadata": {},
   "outputs": [
    {
     "name": "stderr",
     "output_type": "stream",
     "text": [
      "100%|██████████| 99/99 [2:44:41<00:00, 99.81s/it]   \n"
     ]
    },
    {
     "name": "stdout",
     "output_type": "stream",
     "text": [
      "Vocab size : 1955360\n",
      "Total time : --- 9881.107899665833 seconds ---\n"
     ]
    }
   ],
   "source": [
    "# transformation  : stemming, no numeric, lower, no url\n",
    "total_time_ii, vocab_size_ii, times_ii, types_ii, wc_ii = count_words_multiple_2(folder, lower = True, numeric = True, \n",
    "                                        url = True, stem = True, lem = False, \n",
    "                                        puncts = False, stopwords = False)"
   ]
  },
  {
   "cell_type": "markdown",
   "metadata": {},
   "source": [
    "### Comparison : Execution time wise wise Vs Vocabulary size wise"
   ]
  },
  {
   "cell_type": "code",
   "execution_count": 159,
   "metadata": {},
   "outputs": [],
   "source": [
    "new_transformations = transformations + ['low/no_puncts/no_url/no_num','stem/no_num/low/no_url']\n",
    "new_vocab_sizes = vocab_sizes + [vocab_size_i,vocab_size_ii]\n",
    "new_total_times = total_times + [total_time_i,total_time_ii]\n"
   ]
  },
  {
   "cell_type": "code",
   "execution_count": 160,
   "metadata": {},
   "outputs": [
    {
     "data": {
      "text/plain": [
       "['none',\n",
       " 'lower',\n",
       " 'no puncts',\n",
       " 'no stopwords',\n",
       " 'stemming',\n",
       " 'lemmatization',\n",
       " 'no numeric',\n",
       " 'no url',\n",
       " 'low/no_puncts/no_url/no_num',\n",
       " 'stem/no_num/low/no_url']"
      ]
     },
     "execution_count": 160,
     "metadata": {},
     "output_type": "execute_result"
    }
   ],
   "source": [
    "new_transformations"
   ]
  },
  {
   "cell_type": "code",
   "execution_count": 161,
   "metadata": {},
   "outputs": [
    {
     "data": {
      "text/plain": [
       "[2851884,\n",
       " 2613568,\n",
       " 2851852,\n",
       " 2851731,\n",
       " 2359704,\n",
       " 2829068,\n",
       " 2516225,\n",
       " 2783355,\n",
       " 11003397,\n",
       " 1955360]"
      ]
     },
     "execution_count": 161,
     "metadata": {},
     "output_type": "execute_result"
    }
   ],
   "source": [
    "new_vocab_sizes"
   ]
  },
  {
   "cell_type": "code",
   "execution_count": 162,
   "metadata": {},
   "outputs": [
    {
     "data": {
      "text/plain": [
       "[152.50782895088196,\n",
       " 210.2844386100769,\n",
       " 214.3444745540619,\n",
       " 1127.523307800293,\n",
       " 9500.614163637161,\n",
       " 2217.9605841636658,\n",
       " 826.4670424461365,\n",
       " 762.9262902736664,\n",
       " 1299.2733478546143,\n",
       " 9881.107899665833]"
      ]
     },
     "execution_count": 162,
     "metadata": {},
     "output_type": "execute_result"
    }
   ],
   "source": [
    "new_total_times"
   ]
  },
  {
   "cell_type": "code",
   "execution_count": 163,
   "metadata": {},
   "outputs": [
    {
     "data": {
      "image/png": "[encoded data removed]",
      "text/plain": [
       "<Figure size 648x432 with 1 Axes>"
      ]
     },
     "metadata": {
      "needs_background": "light"
     },
     "output_type": "display_data"
    }
   ],
   "source": [
    "plot_vocab_time_per_transf(new_total_times,new_vocab_sizes, new_transformations)"
   ]
  },
  {
   "cell_type": "code",
   "execution_count": null,
   "metadata": {},
   "outputs": [],
   "source": []
  }
 ],
 "metadata": {
  "interpreter": {
   "hash": "dff666bc681b740487bfa3c64f9892c436638dbe9df8fc910514714dacdf7e41"
  },
  "kernelspec": {
   "display_name": "Python 3",
   "language": "python",
   "name": "python3"
  },
  "language_info": {
   "codemirror_mode": {
    "name": "ipython",
    "version": 3
   },
   "file_extension": ".py",
   "mimetype": "text/x-python",
   "name": "python",
   "nbconvert_exporter": "python",
   "pygments_lexer": "ipython3",
   "version": "3.8.5"
  }
 },
 "nbformat": 4,
 "nbformat_minor": 4
}
