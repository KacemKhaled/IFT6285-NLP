{
 "cells": [
  {
   "cell_type": "code",
   "execution_count": 42,
   "metadata": {
    "pycharm": {
     "name": "#%%\n"
    }
   },
   "outputs": [],
   "source": [
    "import nltk\n",
    "import sys\n",
    "from collections import Counter\n",
    "import pandas as pd\n",
    "from os import listdir\n",
    "from tqdm import tqdm\n",
    "import time\n",
    "import matplotlib.pyplot as plt"
   ]
  },
  {
   "cell_type": "code",
   "execution_count": 43,
   "metadata": {},
   "outputs": [],
   "source": [
    "folder = 'training-monolingual.tokenized.shuffled/'\n",
    "files = listdir(folder)"
   ]
  },
  {
   "cell_type": "code",
   "execution_count": 44,
   "metadata": {},
   "outputs": [
    {
     "data": {
      "text/plain": [
       "['news.en-00001-of-00100',\n",
       " 'news.en-00002-of-00100',\n",
       " 'news.en-00003-of-00100',\n",
       " 'news.en-00004-of-00100',\n",
       " 'news.en-00005-of-00100',\n",
       " 'news.en-00006-of-00100',\n",
       " 'news.en-00007-of-00100',\n",
       " 'news.en-00008-of-00100',\n",
       " 'news.en-00009-of-00100',\n",
       " 'news.en-00010-of-00100',\n",
       " 'news.en-00011-of-00100',\n",
       " 'news.en-00012-of-00100',\n",
       " 'news.en-00013-of-00100',\n",
       " 'news.en-00014-of-00100',\n",
       " 'news.en-00015-of-00100',\n",
       " 'news.en-00016-of-00100',\n",
       " 'news.en-00017-of-00100',\n",
       " 'news.en-00018-of-00100',\n",
       " 'news.en-00019-of-00100',\n",
       " 'news.en-00020-of-00100',\n",
       " 'news.en-00021-of-00100',\n",
       " 'news.en-00022-of-00100',\n",
       " 'news.en-00023-of-00100',\n",
       " 'news.en-00024-of-00100',\n",
       " 'news.en-00025-of-00100',\n",
       " 'news.en-00026-of-00100',\n",
       " 'news.en-00027-of-00100',\n",
       " 'news.en-00028-of-00100',\n",
       " 'news.en-00029-of-00100',\n",
       " 'news.en-00030-of-00100',\n",
       " 'news.en-00031-of-00100',\n",
       " 'news.en-00032-of-00100',\n",
       " 'news.en-00033-of-00100',\n",
       " 'news.en-00034-of-00100',\n",
       " 'news.en-00035-of-00100',\n",
       " 'news.en-00036-of-00100',\n",
       " 'news.en-00037-of-00100',\n",
       " 'news.en-00038-of-00100',\n",
       " 'news.en-00039-of-00100',\n",
       " 'news.en-00040-of-00100',\n",
       " 'news.en-00041-of-00100',\n",
       " 'news.en-00042-of-00100',\n",
       " 'news.en-00043-of-00100',\n",
       " 'news.en-00044-of-00100',\n",
       " 'news.en-00045-of-00100',\n",
       " 'news.en-00046-of-00100',\n",
       " 'news.en-00047-of-00100',\n",
       " 'news.en-00048-of-00100',\n",
       " 'news.en-00049-of-00100',\n",
       " 'news.en-00050-of-00100',\n",
       " 'news.en-00051-of-00100',\n",
       " 'news.en-00052-of-00100',\n",
       " 'news.en-00053-of-00100',\n",
       " 'news.en-00054-of-00100',\n",
       " 'news.en-00055-of-00100',\n",
       " 'news.en-00056-of-00100',\n",
       " 'news.en-00057-of-00100',\n",
       " 'news.en-00058-of-00100',\n",
       " 'news.en-00059-of-00100',\n",
       " 'news.en-00060-of-00100',\n",
       " 'news.en-00061-of-00100',\n",
       " 'news.en-00062-of-00100',\n",
       " 'news.en-00063-of-00100',\n",
       " 'news.en-00064-of-00100',\n",
       " 'news.en-00065-of-00100',\n",
       " 'news.en-00066-of-00100',\n",
       " 'news.en-00067-of-00100',\n",
       " 'news.en-00068-of-00100',\n",
       " 'news.en-00069-of-00100',\n",
       " 'news.en-00070-of-00100',\n",
       " 'news.en-00071-of-00100',\n",
       " 'news.en-00072-of-00100',\n",
       " 'news.en-00073-of-00100',\n",
       " 'news.en-00074-of-00100',\n",
       " 'news.en-00075-of-00100',\n",
       " 'news.en-00076-of-00100',\n",
       " 'news.en-00077-of-00100',\n",
       " 'news.en-00078-of-00100',\n",
       " 'news.en-00079-of-00100',\n",
       " 'news.en-00080-of-00100',\n",
       " 'news.en-00081-of-00100',\n",
       " 'news.en-00082-of-00100',\n",
       " 'news.en-00083-of-00100',\n",
       " 'news.en-00084-of-00100',\n",
       " 'news.en-00085-of-00100',\n",
       " 'news.en-00086-of-00100',\n",
       " 'news.en-00087-of-00100',\n",
       " 'news.en-00088-of-00100',\n",
       " 'news.en-00089-of-00100',\n",
       " 'news.en-00090-of-00100',\n",
       " 'news.en-00091-of-00100',\n",
       " 'news.en-00092-of-00100',\n",
       " 'news.en-00093-of-00100',\n",
       " 'news.en-00094-of-00100',\n",
       " 'news.en-00095-of-00100',\n",
       " 'news.en-00096-of-00100',\n",
       " 'news.en-00097-of-00100',\n",
       " 'news.en-00098-of-00100',\n",
       " 'news.en-00099-of-00100']"
      ]
     },
     "execution_count": 44,
     "metadata": {},
     "output_type": "execute_result"
    }
   ],
   "source": [
    "files"
   ]
  },
  {
   "cell_type": "code",
   "execution_count": 45,
   "metadata": {},
   "outputs": [
    {
     "name": "stderr",
     "output_type": "stream",
     "text": [
      "100%|██████████| 99/99 [03:07<00:00,  1.90s/it]"
     ]
    },
    {
     "name": "stdout",
     "output_type": "stream",
     "text": [
      "Total time : --- 187.68557453155518 seconds ---\n"
     ]
    },
    {
     "name": "stderr",
     "output_type": "stream",
     "text": [
      "\n"
     ]
    }
   ],
   "source": [
    "# fn = \"1bshort/news.en-00001-of-00100\"\n",
    "\n",
    "wc = Counter()\n",
    "times = []\n",
    "types = []\n",
    "start_time = time.time()\n",
    "for fn in tqdm(files):\n",
    "    with open(folder+fn, 'r',encoding=\"utf8\") as f:\n",
    "        wc += Counter(f.read().split(' '))\n",
    "        times.append(time.time() - start_time)\n",
    "        types.append(len(wc))\n",
    "    f.close()\n",
    "print(\"Total time : --- %s seconds ---\" % (time.time() - start_time))"
   ]
  },
  {
   "cell_type": "code",
   "execution_count": 46,
   "metadata": {},
   "outputs": [],
   "source": [
    "df = pd.DataFrame.from_dict(wc, orient='index', columns = ['frequency'])\n"
   ]
  },
  {
   "cell_type": "code",
   "execution_count": 47,
   "metadata": {},
   "outputs": [
    {
     "data": {
      "text/plain": [
       "2851884"
      ]
     },
     "execution_count": 47,
     "metadata": {},
     "output_type": "execute_result"
    }
   ],
   "source": [
    "len(wc)"
   ]
  },
  {
   "cell_type": "code",
   "execution_count": 48,
   "metadata": {},
   "outputs": [
    {
     "data": {
      "text/plain": [
       "2851884"
      ]
     },
     "execution_count": 48,
     "metadata": {},
     "output_type": "execute_result"
    }
   ],
   "source": [
    "len(df)"
   ]
  },
  {
   "cell_type": "code",
   "execution_count": 49,
   "metadata": {
    "scrolled": true
   },
   "outputs": [
    {
     "name": "stdout",
     "output_type": "stream",
     "text": [
      "                        frequency\n",
      "The                        850976\n",
      "U.S.                       604446\n",
      "Centers                      8790\n",
      "for                       6508821\n",
      "Disease                      8708\n",
      "...                           ...\n",
      ".\\nCarefully-regulated          1\n",
      "LabNearly                       1\n",
      "benefitsor                      1\n",
      "Ndoungou                        1\n",
      "un-prepossessing                1\n",
      "\n",
      "[2851884 rows x 1 columns]\n"
     ]
    }
   ],
   "source": [
    "print(df)\n"
   ]
  },
  {
   "cell_type": "code",
   "execution_count": 50,
   "metadata": {},
   "outputs": [],
   "source": [
    "total_words = df['frequency'].sum()\n",
    "total_types = len(df)"
   ]
  },
  {
   "cell_type": "code",
   "execution_count": 52,
   "metadata": {},
   "outputs": [
    {
     "data": {
      "text/plain": [
       "738347955"
      ]
     },
     "execution_count": 52,
     "metadata": {},
     "output_type": "execute_result"
    }
   ],
   "source": [
    "total_words"
   ]
  },
  {
   "cell_type": "code",
   "execution_count": 53,
   "metadata": {},
   "outputs": [
    {
     "data": {
      "text/plain": [
       "2851884"
      ]
     },
     "execution_count": 53,
     "metadata": {},
     "output_type": "execute_result"
    }
   ],
   "source": [
    "total_types"
   ]
  },
  {
   "cell_type": "code",
   "execution_count": 58,
   "metadata": {},
   "outputs": [
    {
     "data": {
      "image/png": "[encoded data removed]",
      "text/plain": [
       "<Figure size 648x432 with 1 Axes>"
      ]
     },
     "metadata": {
      "needs_background": "light"
     },
     "output_type": "display_data"
    },
    {
     "data": {
      "image/png": "[encoded data removed]",
      "text/plain": [
       "<Figure size 648x432 with 1 Axes>"
      ]
     },
     "metadata": {
      "needs_background": "light"
     },
     "output_type": "display_data"
    }
   ],
   "source": [
    "tranches = list(range(1,100))\n",
    "plt.figure(figsize=(9,6))\n",
    "plt.plot(tranches, times,'r--')\n",
    "plt.title(\"Le temps mis pour compter les mots en fonction du nombre de tranches considérées\")\n",
    "plt.show()\n",
    "\n",
    "plt.figure(figsize=(9,6))\n",
    "plt.plot(tranches, types , 'g^')\n",
    "plt.title(\"Le nombre de types en fonction du nombre de tranches considérées\")\n",
    "plt.show()"
   ]
  }
 ],
 "metadata": {
  "kernelspec": {
   "display_name": "Python 3",
   "language": "python",
   "name": "python3"
  },
  "language_info": {
   "codemirror_mode": {
    "name": "ipython",
    "version": 3
   },
   "file_extension": ".py",
   "mimetype": "text/x-python",
   "name": "python",
   "nbconvert_exporter": "python",
   "pygments_lexer": "ipython3",
   "version": "3.8.5"
  }
 },
 "nbformat": 4,
 "nbformat_minor": 4
}
