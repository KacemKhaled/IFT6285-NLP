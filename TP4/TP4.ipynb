{
 "cells": [
  {
   "cell_type": "markdown",
   "metadata": {},
   "source": [
    "# IFT6285 (TALN) \n",
    "\n",
    "## Devoir 4\n",
    "\n",
    "Réalisé par:\n",
    "\n",
    "Mouna Dhaouadi \n",
    "\n",
    "Kacem Khaled\n",
    "\n",
    "Soumis à:\n",
    "\n",
    "Prof. Philippe Langlais\n",
    "\n",
    "Frédéric Piedboeuf\n",
    "\n",
    "\n",
    "**Automne 2021**"
   ]
  },
  {
   "cell_type": "code",
   "execution_count": null,
   "metadata": {},
   "outputs": [],
   "source": [
    "from gensim.models import Word2Vec\n",
    "import os\n"
   ]
  },
  {
   "cell_type": "code",
   "execution_count": null,
   "metadata": {},
   "outputs": [],
   "source": [
    "folder = 'training-monolingual.tokenized.shuffled/'\n",
    "DATA_PATH = os.path.join(os.getcwd(), folder)"
   ]
  }
 ],
 "metadata": {
  "language_info": {
   "name": "python"
  },
  "orig_nbformat": 4
 },
 "nbformat": 4,
 "nbformat_minor": 2
}
